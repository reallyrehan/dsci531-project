{
  "nbformat": 4,
  "nbformat_minor": 0,
  "metadata": {
    "colab": {
      "name": "CSCI535.ipynb",
      "provenance": [],
      "collapsed_sections": []
    },
    "kernelspec": {
      "name": "python3",
      "display_name": "Python 3"
    },
    "language_info": {
      "name": "python"
    }
  },
  "cells": [
    {
      "cell_type": "markdown",
      "source": [
        "# Visual"
      ],
      "metadata": {
        "id": "9MAuvJzN1AQn"
      }
    },
    {
      "cell_type": "code",
      "source": [
        ""
      ],
      "metadata": {
        "id": "ostJn1-tiIgP"
      },
      "execution_count": null,
      "outputs": []
    },
    {
      "cell_type": "code",
      "source": [
        "# File manipulation imports for Google Colab\n",
        "from google.colab import drive\n",
        "drive.mount('/content/drive')\n",
        "import os\n",
        "os.chdir(\"/content/drive/My Drive/Colab Notebooks\")"
      ],
      "metadata": {
        "colab": {
          "base_uri": "https://localhost:8080/"
        },
        "id": "jq7SrkBB1CqP",
        "outputId": "61d7c497-76f9-4e58-9e82-ffff2cfe90ba"
      },
      "execution_count": null,
      "outputs": [
        {
          "output_type": "stream",
          "name": "stdout",
          "text": [
            "Mounted at /content/drive\n"
          ]
        }
      ]
    },
    {
      "cell_type": "code",
      "source": [
        "# !pip install moviepy"
      ],
      "metadata": {
        "id": "3RwQhiBYDrtv"
      },
      "execution_count": null,
      "outputs": []
    },
    {
      "cell_type": "code",
      "source": [
        "from glob import glob\n",
        "from tqdm.auto import tqdm\n",
        "from collections import defaultdict\n",
        "import pandas as pd"
      ],
      "metadata": {
        "id": "byybdMqG3Kd1"
      },
      "execution_count": null,
      "outputs": []
    },
    {
      "cell_type": "code",
      "execution_count": null,
      "metadata": {
        "id": "bNv0l7js0552"
      },
      "outputs": [],
      "source": [
        "# Get filepath for all labeling files\n",
        "files = set()\n",
        "for session_num in range(1, 6):\n",
        "    path = f'../IEMOCAP_full_release/Session{session_num}/dialog/EmoEvaluation'\n",
        "    files.update(glob(path+'/*.txt'))"
      ]
    },
    {
      "cell_type": "code",
      "source": [
        "print(len(files))"
      ],
      "metadata": {
        "id": "-o9GYzP33Ned",
        "outputId": "584a3011-48df-4d7b-8630-db822eacf9be",
        "colab": {
          "base_uri": "https://localhost:8080/"
        }
      },
      "execution_count": null,
      "outputs": [
        {
          "output_type": "stream",
          "name": "stdout",
          "text": [
            "151\n"
          ]
        }
      ]
    },
    {
      "cell_type": "code",
      "source": [
        "info = defaultdict(list)\n",
        "for file in tqdm(files):\n",
        "    with open(file, 'r') as f_in:\n",
        "        for idx, line in enumerate(f_in.readlines()):\n",
        "            # print(idx)\n",
        "            # print(line)\n",
        "            line = line.split('\\t')\n",
        "            if len(line) > 3:\n",
        "                # print(line)\n",
        "                info['time'].append(line[0])\n",
        "                info['id'].append(line[1])\n",
        "                info['label'].append(line[2])\n"
      ],
      "metadata": {
        "id": "per5idea3Qo-"
      },
      "execution_count": null,
      "outputs": []
    },
    {
      "cell_type": "code",
      "source": [
        "df = pd.DataFrame(info).sort_values('id').reset_index(drop=True)"
      ],
      "metadata": {
        "id": "7U3M8WHR4HHA"
      },
      "execution_count": null,
      "outputs": []
    },
    {
      "cell_type": "code",
      "source": [
        "df"
      ],
      "metadata": {
        "id": "dZ6MTeyJ8bgP"
      },
      "execution_count": null,
      "outputs": []
    },
    {
      "cell_type": "code",
      "source": [
        "df['label'] = df['label'].replace('xxx', 'oth')\n",
        "df['label'] = df['label'].replace('exc', 'hap')"
      ],
      "metadata": {
        "id": "-iPi3PwP8b3H"
      },
      "execution_count": null,
      "outputs": []
    },
    {
      "cell_type": "code",
      "source": [
        "data = df[~df['label'].isin(['oth', 'fea', 'sur', 'dis'])].reset_index(drop=True)"
      ],
      "metadata": {
        "id": "FtzlgRnB4f9F"
      },
      "execution_count": null,
      "outputs": []
    },
    {
      "cell_type": "code",
      "source": [
        "data"
      ],
      "metadata": {
        "id": "HbsCn74-49vE"
      },
      "execution_count": null,
      "outputs": []
    },
    {
      "cell_type": "code",
      "source": [
        "data.head(10)"
      ],
      "metadata": {
        "id": "HFcFnLpw6tei"
      },
      "execution_count": null,
      "outputs": []
    },
    {
      "cell_type": "code",
      "source": [
        "# test = data.head(20)"
      ],
      "metadata": {
        "id": "HCnxuebn6vRb"
      },
      "execution_count": null,
      "outputs": []
    },
    {
      "cell_type": "code",
      "source": [
        "# test"
      ],
      "metadata": {
        "id": "jOd8I8mP60sD"
      },
      "execution_count": null,
      "outputs": []
    },
    {
      "cell_type": "code",
      "source": [
        "# test[['start_time', 'end_time']] = test['time'].str.split(' - ', expand=True)"
      ],
      "metadata": {
        "id": "5A2Sq2Cb7Jej"
      },
      "execution_count": null,
      "outputs": []
    },
    {
      "cell_type": "code",
      "source": [
        "# test['start_time'] = test['start_time'].apply(lambda x: x[1:])"
      ],
      "metadata": {
        "id": "8Sil61FF7OAL"
      },
      "execution_count": null,
      "outputs": []
    },
    {
      "cell_type": "code",
      "source": [
        "# test['end_time'] = test['end_time'].apply(lambda x: x[:-1])"
      ],
      "metadata": {
        "id": "f41zejzK8d47"
      },
      "execution_count": null,
      "outputs": []
    },
    {
      "cell_type": "code",
      "source": [
        "# test"
      ],
      "metadata": {
        "id": "ROcqASXS9tss"
      },
      "execution_count": null,
      "outputs": []
    },
    {
      "cell_type": "code",
      "source": [
        "# def get_filepath(name):\n",
        "#     # print(name.split('_'))\n",
        "#     name_ls = name.split('_')\n",
        "#     path = '../IEMOCAP_full_release/Session'+name_ls[0][-2]+'/dialog/avi/DivX/'+name_ls[0]+'_'+name_ls[0]+'.avi'\n",
        "#     return path"
      ],
      "metadata": {
        "id": "vxKrSeIiUn26"
      },
      "execution_count": null,
      "outputs": []
    },
    {
      "cell_type": "code",
      "source": [
        "# test['Filepath'] = test['id'].apply(lambda x: get_filepath(x))"
      ],
      "metadata": {
        "id": "TcIOqx77HaMk"
      },
      "execution_count": null,
      "outputs": []
    },
    {
      "cell_type": "code",
      "source": [
        "# test"
      ],
      "metadata": {
        "id": "XDCDc9e5UtL7"
      },
      "execution_count": null,
      "outputs": []
    },
    {
      "cell_type": "code",
      "source": [
        "# from moviepy.video.io.VideoFileClip import VideoFileClip\n",
        "# from moviepy.video.VideoClip import VideoClip\n",
        "# from moviepy.video.fx.all import crop"
      ],
      "metadata": {
        "id": "yJpCgE9TX1jx"
      },
      "execution_count": null,
      "outputs": []
    },
    {
      "cell_type": "code",
      "source": [
        "# vid_files = set()\n",
        "# for session_num in range(1, 6):\n",
        "#     path = f'../IEMOCAP_full_release/Session{session_num}/dialog/avi/DivX'\n",
        "#     vid_files.update(glob(path+'/*.avi'))"
      ],
      "metadata": {
        "id": "6hqeZNqlfjTq"
      },
      "execution_count": null,
      "outputs": []
    },
    {
      "cell_type": "code",
      "source": [
        "# print(len(vid_files))"
      ],
      "metadata": {
        "id": "pF9A832if2-q"
      },
      "execution_count": null,
      "outputs": []
    },
    {
      "cell_type": "code",
      "source": [
        "# def get_clip(row, file, vid):\n",
        "#     id = row.id\n",
        "#     f_name = '../IEMOCAP_clips/'+id+'.avi'\n",
        "#     # if file already exists, just read it\n",
        "#     if os.path.isfile(f_name):\n",
        "#         return f_name\n",
        "\n",
        "#     else:\n",
        "#         print(f_name, 'does not exsist, creating')\n",
        "#         time = row.time\n",
        "#         time_ls = time.split(' - ')\n",
        "#         start = float(time_ls[0][1:])\n",
        "#         end = float(time_ls[1][:-1])\n",
        "\n",
        "#         try:\n",
        "#             clip = vid.subclip(start, end)\n",
        "#             clip_x, clip_y = clip.size\n",
        "\n",
        "#             # check for left vs right side of video\n",
        "#             id_ls = id.split('_')\n",
        "#             if id_ls[0][-1] == id_ls[-1][0]:\n",
        "#                 clip = crop(clip, x2=clip_x//2)\n",
        "#             else:\n",
        "#                 clip = crop(clip, x1=clip_x//2)\n",
        "\n",
        "#             # makesure folder exists\n",
        "#             if not os.path.isdir('../IEMOCAP_clips/'):\n",
        "#                 os.makedirs('../IEMOCAP_clips/')\n",
        "\n",
        "#             # write the file for faster runtime next time\n",
        "#             clip.write_videofile(f_name, codec='png')\n",
        "#             return f_name\n",
        "#         except:\n",
        "#             print()\n",
        "#             print('+++++++++++++++++++++++++++++++')\n",
        "#             print(f_name)\n",
        "#             print(row.time)\n",
        "#             print(row.id)\n",
        "#             print(row.label)\n",
        "#             print('+++++++++++++++++++++++++++++++')\n",
        "#             print()\n",
        "#             return None"
      ],
      "metadata": {
        "id": "XXILGjUVjPkk"
      },
      "execution_count": null,
      "outputs": []
    },
    {
      "cell_type": "code",
      "source": [
        "# file_dfs = []\n",
        "# for f in vid_files:\n",
        "#     with VideoFileClip(f, audio=False) as clip:\n",
        "#         tmp = data[data['id'].str.contains(f.split('/')[-1][:-4])]\n",
        "#         tmp['clip'] = tmp.apply(lambda row: get_clip(row, f, clip), axis=1)\n",
        "#         file_dfs.append(tmp)\n",
        "\n",
        "# print(\"Finished All\")"
      ],
      "metadata": {
        "id": "gQZyGRQmf5yp"
      },
      "execution_count": null,
      "outputs": []
    },
    {
      "cell_type": "code",
      "source": [
        "# vid_data = pd.concat(file_dfs)"
      ],
      "metadata": {
        "id": "8fn8qbwSB7cB"
      },
      "execution_count": null,
      "outputs": []
    },
    {
      "cell_type": "code",
      "source": [
        "# vid_data.sort_values('id')"
      ],
      "metadata": {
        "id": "HaG6-M6xP2ro"
      },
      "execution_count": null,
      "outputs": []
    },
    {
      "cell_type": "code",
      "source": [
        "clip_location = '../IEMOCAP_clips/'"
      ],
      "metadata": {
        "id": "-Net5hxfP3aJ"
      },
      "execution_count": null,
      "outputs": []
    },
    {
      "cell_type": "code",
      "source": [
        "# test = data.sample(10)"
      ],
      "metadata": {
        "id": "XeE6TkwEfCsL"
      },
      "execution_count": null,
      "outputs": []
    },
    {
      "cell_type": "code",
      "source": [
        "# test"
      ],
      "metadata": {
        "id": "YoLieK61uhO7"
      },
      "execution_count": null,
      "outputs": []
    },
    {
      "cell_type": "code",
      "source": [
        "!pip install facenet-pytorch"
      ],
      "metadata": {
        "colab": {
          "base_uri": "https://localhost:8080/"
        },
        "id": "8oPFhFCDuiWz",
        "outputId": "707db9b8-ec39-4924-a8a1-3509dd6b55ad"
      },
      "execution_count": null,
      "outputs": [
        {
          "output_type": "stream",
          "name": "stdout",
          "text": [
            "Collecting facenet-pytorch\n",
            "  Downloading facenet_pytorch-2.5.2-py3-none-any.whl (1.9 MB)\n",
            "\u001b[K     |████████████████████████████████| 1.9 MB 4.2 MB/s \n",
            "\u001b[?25hRequirement already satisfied: numpy in /usr/local/lib/python3.7/dist-packages (from facenet-pytorch) (1.21.5)\n",
            "Requirement already satisfied: requests in /usr/local/lib/python3.7/dist-packages (from facenet-pytorch) (2.23.0)\n",
            "Requirement already satisfied: torchvision in /usr/local/lib/python3.7/dist-packages (from facenet-pytorch) (0.11.1+cu111)\n",
            "Requirement already satisfied: pillow in /usr/local/lib/python3.7/dist-packages (from facenet-pytorch) (7.1.2)\n",
            "Requirement already satisfied: idna<3,>=2.5 in /usr/local/lib/python3.7/dist-packages (from requests->facenet-pytorch) (2.10)\n",
            "Requirement already satisfied: certifi>=2017.4.17 in /usr/local/lib/python3.7/dist-packages (from requests->facenet-pytorch) (2021.10.8)\n",
            "Requirement already satisfied: chardet<4,>=3.0.2 in /usr/local/lib/python3.7/dist-packages (from requests->facenet-pytorch) (3.0.4)\n",
            "Requirement already satisfied: urllib3!=1.25.0,!=1.25.1,<1.26,>=1.21.1 in /usr/local/lib/python3.7/dist-packages (from requests->facenet-pytorch) (1.24.3)\n",
            "Requirement already satisfied: torch==1.10.0 in /usr/local/lib/python3.7/dist-packages (from torchvision->facenet-pytorch) (1.10.0+cu111)\n",
            "Requirement already satisfied: typing-extensions in /usr/local/lib/python3.7/dist-packages (from torch==1.10.0->torchvision->facenet-pytorch) (3.10.0.2)\n",
            "Installing collected packages: facenet-pytorch\n",
            "Successfully installed facenet-pytorch-2.5.2\n"
          ]
        }
      ]
    },
    {
      "cell_type": "code",
      "source": [
        "from facenet_pytorch import MTCNN, InceptionResnetV1\n",
        "import torch\n",
        "import cv2 as cv\n",
        "import numpy as np\n",
        "import pickle"
      ],
      "metadata": {
        "id": "k8-c63wQ5rTD"
      },
      "execution_count": null,
      "outputs": []
    },
    {
      "cell_type": "code",
      "source": [
        "device = torch.device('cuda:0' if torch.cuda.is_available() else 'cpu')\n",
        "print(device)"
      ],
      "metadata": {
        "id": "1nMK35Ia525C"
      },
      "execution_count": null,
      "outputs": []
    },
    {
      "cell_type": "code",
      "source": [
        "resnet = InceptionResnetV1(pretrained='vggface2').eval().to(device)"
      ],
      "metadata": {
        "id": "TtLjOZgn6tv7"
      },
      "execution_count": null,
      "outputs": []
    },
    {
      "cell_type": "code",
      "source": [
        "mtcnn = MTCNN(device=device)"
      ],
      "metadata": {
        "id": "SByhOz9P_svD"
      },
      "execution_count": null,
      "outputs": []
    },
    {
      "cell_type": "code",
      "source": [
        "# vid = cv.VideoCapture(\"../IEMOCAP_clips/Ses01M_script02_2_F013.avi\")\n",
        "# success, frame = vid.read()\n",
        "# aligned = []\n",
        "# count = 0\n",
        "# if success:\n",
        "#     face_aligned, prob = mtcnn(frame, return_prob=True)\n",
        "#     if face_aligned is not None:\n",
        "#         print('\\tFace detected with probability: {:8f}'.format(prob))\n",
        "#         print(face_aligned.shape)\n",
        "#         aligned.append(face_aligned)\n",
        "#     else:\n",
        "#         print('\\tFace detection failed')\n",
        "#         aligned.append(torch.zeros([3,160,160]))\n",
        "#         emb = resnet(torch.zeros([3,160,160])).detach().cpu()\n",
        "# failed = torch.zeros([3, 160, 160])\n",
        "# print(failed.shape)\n",
        "# emb = resnet(torch.stack([failed])).detach().cpu()\n",
        "# emb.shape"
      ],
      "metadata": {
        "id": "901vdYH-Mtkx"
      },
      "execution_count": null,
      "outputs": []
    },
    {
      "cell_type": "code",
      "source": [
        "data"
      ],
      "metadata": {
        "id": "qbii2gsS9jfK"
      },
      "execution_count": null,
      "outputs": []
    },
    {
      "cell_type": "code",
      "source": [
        "data.shape[0]"
      ],
      "metadata": {
        "id": "FNbDqfaIXL1S"
      },
      "execution_count": null,
      "outputs": []
    },
    {
      "cell_type": "code",
      "source": [
        "prev = pd.read_csv('../IEMOCAP_vid/IEMOCAP_vid_info.tsv', sep='\\t', index_col=0)"
      ],
      "metadata": {
        "id": "wOAVDdVmWimE"
      },
      "execution_count": null,
      "outputs": []
    },
    {
      "cell_type": "code",
      "source": [
        "prev"
      ],
      "metadata": {
        "colab": {
          "base_uri": "https://localhost:8080/",
          "height": 424
        },
        "id": "dxd28eAOWsP8",
        "outputId": "fccbdde8-f5aa-43bb-ebbf-1964b6a4c450"
      },
      "execution_count": null,
      "outputs": [
        {
          "output_type": "execute_result",
          "data": {
            "text/plain": [
              "                       time                      id label  frames  read\n",
              "0         [6.2901 - 8.2357]     Ses01F_impro01_F000   neu      59    56\n",
              "1       [10.0100 - 11.3925]     Ses01F_impro01_F001   neu      42    31\n",
              "2       [14.8872 - 18.0175]     Ses01F_impro01_F002   neu      94    90\n",
              "3       [27.4600 - 31.4900]     Ses01F_impro01_F005   neu     121    84\n",
              "4       [38.9650 - 43.5900]     Ses01F_impro01_F006   fru     139    34\n",
              "...                     ...                     ...   ...     ...   ...\n",
              "7375  [236.5700 - 244.8300]  Ses05M_script03_2_M041   ang     248   247\n",
              "7376  [244.8400 - 246.5800]  Ses05M_script03_2_M042   ang      53    53\n",
              "7377  [246.5900 - 248.8300]  Ses05M_script03_2_M043   ang      68    68\n",
              "7378  [255.8600 - 260.3300]  Ses05M_script03_2_M044   ang     134   125\n",
              "7379  [260.3400 - 266.3500]  Ses05M_script03_2_M045   ang     181   179\n",
              "\n",
              "[7380 rows x 5 columns]"
            ],
            "text/html": [
              "\n",
              "  <div id=\"df-67f0ef84-50c0-475e-97c5-f98b8fbea971\">\n",
              "    <div class=\"colab-df-container\">\n",
              "      <div>\n",
              "<style scoped>\n",
              "    .dataframe tbody tr th:only-of-type {\n",
              "        vertical-align: middle;\n",
              "    }\n",
              "\n",
              "    .dataframe tbody tr th {\n",
              "        vertical-align: top;\n",
              "    }\n",
              "\n",
              "    .dataframe thead th {\n",
              "        text-align: right;\n",
              "    }\n",
              "</style>\n",
              "<table border=\"1\" class=\"dataframe\">\n",
              "  <thead>\n",
              "    <tr style=\"text-align: right;\">\n",
              "      <th></th>\n",
              "      <th>time</th>\n",
              "      <th>id</th>\n",
              "      <th>label</th>\n",
              "      <th>frames</th>\n",
              "      <th>read</th>\n",
              "    </tr>\n",
              "  </thead>\n",
              "  <tbody>\n",
              "    <tr>\n",
              "      <th>0</th>\n",
              "      <td>[6.2901 - 8.2357]</td>\n",
              "      <td>Ses01F_impro01_F000</td>\n",
              "      <td>neu</td>\n",
              "      <td>59</td>\n",
              "      <td>56</td>\n",
              "    </tr>\n",
              "    <tr>\n",
              "      <th>1</th>\n",
              "      <td>[10.0100 - 11.3925]</td>\n",
              "      <td>Ses01F_impro01_F001</td>\n",
              "      <td>neu</td>\n",
              "      <td>42</td>\n",
              "      <td>31</td>\n",
              "    </tr>\n",
              "    <tr>\n",
              "      <th>2</th>\n",
              "      <td>[14.8872 - 18.0175]</td>\n",
              "      <td>Ses01F_impro01_F002</td>\n",
              "      <td>neu</td>\n",
              "      <td>94</td>\n",
              "      <td>90</td>\n",
              "    </tr>\n",
              "    <tr>\n",
              "      <th>3</th>\n",
              "      <td>[27.4600 - 31.4900]</td>\n",
              "      <td>Ses01F_impro01_F005</td>\n",
              "      <td>neu</td>\n",
              "      <td>121</td>\n",
              "      <td>84</td>\n",
              "    </tr>\n",
              "    <tr>\n",
              "      <th>4</th>\n",
              "      <td>[38.9650 - 43.5900]</td>\n",
              "      <td>Ses01F_impro01_F006</td>\n",
              "      <td>fru</td>\n",
              "      <td>139</td>\n",
              "      <td>34</td>\n",
              "    </tr>\n",
              "    <tr>\n",
              "      <th>...</th>\n",
              "      <td>...</td>\n",
              "      <td>...</td>\n",
              "      <td>...</td>\n",
              "      <td>...</td>\n",
              "      <td>...</td>\n",
              "    </tr>\n",
              "    <tr>\n",
              "      <th>7375</th>\n",
              "      <td>[236.5700 - 244.8300]</td>\n",
              "      <td>Ses05M_script03_2_M041</td>\n",
              "      <td>ang</td>\n",
              "      <td>248</td>\n",
              "      <td>247</td>\n",
              "    </tr>\n",
              "    <tr>\n",
              "      <th>7376</th>\n",
              "      <td>[244.8400 - 246.5800]</td>\n",
              "      <td>Ses05M_script03_2_M042</td>\n",
              "      <td>ang</td>\n",
              "      <td>53</td>\n",
              "      <td>53</td>\n",
              "    </tr>\n",
              "    <tr>\n",
              "      <th>7377</th>\n",
              "      <td>[246.5900 - 248.8300]</td>\n",
              "      <td>Ses05M_script03_2_M043</td>\n",
              "      <td>ang</td>\n",
              "      <td>68</td>\n",
              "      <td>68</td>\n",
              "    </tr>\n",
              "    <tr>\n",
              "      <th>7378</th>\n",
              "      <td>[255.8600 - 260.3300]</td>\n",
              "      <td>Ses05M_script03_2_M044</td>\n",
              "      <td>ang</td>\n",
              "      <td>134</td>\n",
              "      <td>125</td>\n",
              "    </tr>\n",
              "    <tr>\n",
              "      <th>7379</th>\n",
              "      <td>[260.3400 - 266.3500]</td>\n",
              "      <td>Ses05M_script03_2_M045</td>\n",
              "      <td>ang</td>\n",
              "      <td>181</td>\n",
              "      <td>179</td>\n",
              "    </tr>\n",
              "  </tbody>\n",
              "</table>\n",
              "<p>7380 rows × 5 columns</p>\n",
              "</div>\n",
              "      <button class=\"colab-df-convert\" onclick=\"convertToInteractive('df-67f0ef84-50c0-475e-97c5-f98b8fbea971')\"\n",
              "              title=\"Convert this dataframe to an interactive table.\"\n",
              "              style=\"display:none;\">\n",
              "        \n",
              "  <svg xmlns=\"http://www.w3.org/2000/svg\" height=\"24px\"viewBox=\"0 0 24 24\"\n",
              "       width=\"24px\">\n",
              "    <path d=\"M0 0h24v24H0V0z\" fill=\"none\"/>\n",
              "    <path d=\"M18.56 5.44l.94 2.06.94-2.06 2.06-.94-2.06-.94-.94-2.06-.94 2.06-2.06.94zm-11 1L8.5 8.5l.94-2.06 2.06-.94-2.06-.94L8.5 2.5l-.94 2.06-2.06.94zm10 10l.94 2.06.94-2.06 2.06-.94-2.06-.94-.94-2.06-.94 2.06-2.06.94z\"/><path d=\"M17.41 7.96l-1.37-1.37c-.4-.4-.92-.59-1.43-.59-.52 0-1.04.2-1.43.59L10.3 9.45l-7.72 7.72c-.78.78-.78 2.05 0 2.83L4 21.41c.39.39.9.59 1.41.59.51 0 1.02-.2 1.41-.59l7.78-7.78 2.81-2.81c.8-.78.8-2.07 0-2.86zM5.41 20L4 18.59l7.72-7.72 1.47 1.35L5.41 20z\"/>\n",
              "  </svg>\n",
              "      </button>\n",
              "      \n",
              "  <style>\n",
              "    .colab-df-container {\n",
              "      display:flex;\n",
              "      flex-wrap:wrap;\n",
              "      gap: 12px;\n",
              "    }\n",
              "\n",
              "    .colab-df-convert {\n",
              "      background-color: #E8F0FE;\n",
              "      border: none;\n",
              "      border-radius: 50%;\n",
              "      cursor: pointer;\n",
              "      display: none;\n",
              "      fill: #1967D2;\n",
              "      height: 32px;\n",
              "      padding: 0 0 0 0;\n",
              "      width: 32px;\n",
              "    }\n",
              "\n",
              "    .colab-df-convert:hover {\n",
              "      background-color: #E2EBFA;\n",
              "      box-shadow: 0px 1px 2px rgba(60, 64, 67, 0.3), 0px 1px 3px 1px rgba(60, 64, 67, 0.15);\n",
              "      fill: #174EA6;\n",
              "    }\n",
              "\n",
              "    [theme=dark] .colab-df-convert {\n",
              "      background-color: #3B4455;\n",
              "      fill: #D2E3FC;\n",
              "    }\n",
              "\n",
              "    [theme=dark] .colab-df-convert:hover {\n",
              "      background-color: #434B5C;\n",
              "      box-shadow: 0px 1px 3px 1px rgba(0, 0, 0, 0.15);\n",
              "      filter: drop-shadow(0px 1px 2px rgba(0, 0, 0, 0.3));\n",
              "      fill: #FFFFFF;\n",
              "    }\n",
              "  </style>\n",
              "\n",
              "      <script>\n",
              "        const buttonEl =\n",
              "          document.querySelector('#df-67f0ef84-50c0-475e-97c5-f98b8fbea971 button.colab-df-convert');\n",
              "        buttonEl.style.display =\n",
              "          google.colab.kernel.accessAllowed ? 'block' : 'none';\n",
              "\n",
              "        async function convertToInteractive(key) {\n",
              "          const element = document.querySelector('#df-67f0ef84-50c0-475e-97c5-f98b8fbea971');\n",
              "          const dataTable =\n",
              "            await google.colab.kernel.invokeFunction('convertToInteractive',\n",
              "                                                     [key], {});\n",
              "          if (!dataTable) return;\n",
              "\n",
              "          const docLinkHtml = 'Like what you see? Visit the ' +\n",
              "            '<a target=\"_blank\" href=https://colab.research.google.com/notebooks/data_table.ipynb>data table notebook</a>'\n",
              "            + ' to learn more about interactive tables.';\n",
              "          element.innerHTML = '';\n",
              "          dataTable['output_type'] = 'display_data';\n",
              "          await google.colab.output.renderOutput(dataTable, element);\n",
              "          const docLink = document.createElement('div');\n",
              "          docLink.innerHTML = docLinkHtml;\n",
              "          element.appendChild(docLink);\n",
              "        }\n",
              "      </script>\n",
              "    </div>\n",
              "  </div>\n",
              "  "
            ]
          },
          "metadata": {},
          "execution_count": 11
        }
      ]
    },
    {
      "cell_type": "code",
      "source": [
        "f = '../IEMOCAP_vid/IEMOCAP_embs_with_0/'+prev.id[0]+'.pkl'\n",
        "f"
      ],
      "metadata": {
        "colab": {
          "base_uri": "https://localhost:8080/",
          "height": 35
        },
        "id": "GDC9SavvJHH2",
        "outputId": "a72eaea3-51b9-4717-8512-5ab4afaf2799"
      },
      "execution_count": null,
      "outputs": [
        {
          "output_type": "execute_result",
          "data": {
            "text/plain": [
              "'../IEMOCAP_vid/IEMOCAP_embs_with_0/Ses01F_impro01_F000.pkl'"
            ],
            "application/vnd.google.colaboratory.intrinsic+json": {
              "type": "string"
            }
          },
          "metadata": {},
          "execution_count": 16
        }
      ]
    },
    {
      "cell_type": "code",
      "source": [
        "with open(f, 'rb') as trial:\n",
        "    plz_work = pickle.load(trial)"
      ],
      "metadata": {
        "id": "9-8w_Pk4Jm7N"
      },
      "execution_count": null,
      "outputs": []
    },
    {
      "cell_type": "code",
      "source": [
        "check = data.merge(prev['id'], on=['id'],\n",
        "                   how='left', indaicator=True)\n",
        "do = check[check['_merge'] == 'left_only'].drop(columns='_merge')\n",
        "do"
      ],
      "metadata": {
        "id": "oyIbnWv-XmP7"
      },
      "execution_count": null,
      "outputs": []
    },
    {
      "cell_type": "code",
      "source": [
        "do.shape"
      ],
      "metadata": {
        "id": "VSSJ3KsHYnnk"
      },
      "execution_count": null,
      "outputs": []
    },
    {
      "cell_type": "code",
      "source": [
        "def get_face(row, path, pbar):\n",
        "    f_name = path+row.id+'.avi'\n",
        "    # print(f_name)\n",
        "    vid = cv.VideoCapture(f_name)\n",
        "    success, frame = vid.read()\n",
        "    embs = []\n",
        "    embeddings = []\n",
        "    count = 0\n",
        "    read = 0\n",
        "    get = True\n",
        "\n",
        "    if os.path.isfile('../IEMOCAP_vid/IEMOCAP_embs_with_0/'+row.id+'.pkl') and os.path.isfile('../IEMOCAP_vid/IEMOCAP_embs/'+row.id+'.pkl'):\n",
        "        get = True\n",
        "\n",
        "    while success:\n",
        "        face_aligned, prob = mtcnn(frame, return_prob=True)\n",
        "        if face_aligned is not None:\n",
        "            # print('\\tFace detected with probability: {:8f}'.format(prob))\n",
        "            if get:\n",
        "                aligned = torch.stack([face_aligned]).to(device)\n",
        "                emb = resnet(aligned).detach().cpu()\n",
        "                embeddings.append(emb)\n",
        "            read += 1\n",
        "        else:\n",
        "            # print('\\tFace detection failed')\n",
        "            if get:\n",
        "                emb = torch.zeros([1,512])\n",
        "        \n",
        "        if get:\n",
        "            embs.append(emb)\n",
        "        count += 1\n",
        "        success, frame = vid.read()\n",
        "    \n",
        "    if get:\n",
        "        with open('../IEMOCAP_vid/IEMOCAP_embs_with_0/'+row.id+'.pkl','wb') as f:\n",
        "            pickle.dump(embs, f)\n",
        "\n",
        "    if get:\n",
        "        with open('../IEMOCAP_vid/IEMOCAP_embs/'+row.id+'.pkl','wb') as f2:\n",
        "            pickle.dump(embeddings, f2)\n",
        "\n",
        "    pbar.update()\n",
        "    # print('\\t', row.id, ':', count, 'frames read with', read, 'frames successfully read')\n",
        "    return count, read"
      ],
      "metadata": {
        "id": "QXFtKinn9aKm"
      },
      "execution_count": null,
      "outputs": []
    },
    {
      "cell_type": "code",
      "source": [
        "# s = do['id'].str.split('_', expand=True)\n",
        "# # print(s)\n",
        "# split = s[0] + '_' + s[1]\n",
        "# # print(split)\n",
        "# df1 = do.groupby(split)\n",
        "# partials = [prev]\n",
        "# pbar = tqdm(range(do.shape[0]))\n",
        "\n",
        "# for thing in df1:\n",
        "#     # print(thing[1])\n",
        "#     tmp = thing[1]\n",
        "#     tmp[['frames', 'read']] = tmp.apply(lambda row: get_face(row, clip_location, pbar), axis=1, result_type='expand')\n",
        "#     print(tmp)\n",
        "#     partials.append(tmp)\n",
        "#     full = pd.concat(partials)\n",
        "#     full.to_csv('../IEMOCAP_vid_info.tsv', sep='\\t')"
      ],
      "metadata": {
        "id": "Oj0mFjOu-MR5"
      },
      "execution_count": null,
      "outputs": []
    },
    {
      "cell_type": "code",
      "source": [
        "# full = pd.concat(partials)"
      ],
      "metadata": {
        "id": "V1Uo9_SA7SzC"
      },
      "execution_count": null,
      "outputs": []
    },
    {
      "cell_type": "code",
      "source": [
        "data"
      ],
      "metadata": {
        "id": "CYdKbfFRcPhl"
      },
      "execution_count": null,
      "outputs": []
    },
    {
      "cell_type": "code",
      "source": [
        "# full"
      ],
      "metadata": {
        "id": "mPnsb-4R9zxC"
      },
      "execution_count": null,
      "outputs": []
    },
    {
      "cell_type": "code",
      "source": [
        "# full.to_csv('../IEMOCAP_vid_info.tsv', sep='\\t')"
      ],
      "metadata": {
        "id": "KVQz8G-ZH62q"
      },
      "execution_count": null,
      "outputs": []
    },
    {
      "cell_type": "code",
      "source": [
        ""
      ],
      "metadata": {
        "id": "mY4onzgwW7cK"
      },
      "execution_count": null,
      "outputs": []
    }
  ]
}