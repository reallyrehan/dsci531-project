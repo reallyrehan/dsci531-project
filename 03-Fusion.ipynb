{
    "nbformat": 4,
    "nbformat_minor": 0,
    "metadata": {
        "colab": {
            "name": "09-Fusion.ipynb",
            "provenance": [],
            "collapsed_sections": [],
            "machine_shape": "hm",
            "authorship_tag": "ABX9TyOyXBEFBRMknOgSkPDUobvA"
        },
        "kernelspec": {
            "name": "python3",
            "display_name": "Python 3"
        },
        "language_info": {
            "name": "python"
        },
        "accelerator": "GPU"
    },
    "cells": [
        {
            "cell_type": "markdown",
            "source": [
                "# Fusion Neural Network for Emotion Recognition"
            ],
            "metadata": {
                "id": "_UVjBMzyw1oH"
            }
        },
        {
            "cell_type": "markdown",
            "source": [
                "## Connect to Google Drive"
            ],
            "metadata": {
                "id": "GGhRgLHmw7dP"
            }
        },
        {
            "cell_type": "code",
            "execution_count": 2,
            "metadata": {
                "colab": {
                    "base_uri": "https://localhost:8080/"
                },
                "id": "0PVGgp6dMgvU",
                "executionInfo": {
                    "status": "ok",
                    "timestamp": 1650933174174,
                    "user_tz": 420,
                    "elapsed": 41514,
                    "user": {
                        "displayName": "Rehan Ahmed",
                        "userId": "05041072222578354690"
                    }
                },
                "outputId": "52ce4aa2-e429-4f1d-9e29-1f82eac583b3"
            },
            "outputs": [
                {
                    "output_type": "stream",
                    "name": "stdout",
                    "text": [
                        "Mounted at /content/drive\n"
                    ]
                }
            ],
            "source": [
                "# File manipulation imports for Google Colab\n",
                "from google.colab import drive\n",
                "drive.mount('/content/drive')\n",
                "import os\n",
                "os.chdir(\"/content/drive/My Drive/Colab Notebooks/CSCI535\")"
            ]
        },
        {
            "cell_type": "markdown",
            "source": [
                "## Packages"
            ],
            "metadata": {
                "id": "D29Ff_9Yw9-T"
            }
        },
        {
            "cell_type": "code",
            "source": [
                "!pip install --quiet adabelief-pytorch"
            ],
            "metadata": {
                "id": "mZYsuJ0KM0Hl",
                "executionInfo": {
                    "status": "ok",
                    "timestamp": 1650933178393,
                    "user_tz": 420,
                    "elapsed": 4245,
                    "user": {
                        "displayName": "Rehan Ahmed",
                        "userId": "05041072222578354690"
                    }
                }
            },
            "execution_count": 3,
            "outputs": []
        },
        {
            "cell_type": "code",
            "source": [
                "# Data Manipulation\n",
                "import pandas as pd\n",
                "import numpy as np\n",
                "from glob import glob\n",
                "import json\n",
                "import pickle\n",
                "# import swifter\n",
                "\n",
                "\n",
                "# Neural Networks\n",
                "import torch\n",
                "import torch.nn as nn\n",
                "from adabelief_pytorch import AdaBelief\n",
                "\n",
                "# Metrics\n",
                "from sklearn.metrics import accuracy_score, f1_score\n",
                "from sklearn.metrics import roc_auc_score, roc_curve, auc, confusion_matrix, precision_recall_curve \n",
                "from sklearn.preprocessing import LabelEncoder, OneHotEncoder\n",
                "\n",
                "# Auxilary\n",
                "from tqdm import tqdm\n",
                "from copy import deepcopy\n",
                "from typing import Tuple\n",
                "import time\n",
                "import copy\n",
                "\n",
                "# Plotting\n",
                "import seaborn as sns\n",
                "import matplotlib.pyplot as plt\n",
                "from matplotlib.colors import LogNorm\n",
                "%matplotlib inline\n",
                "import pylab"
            ],
            "metadata": {
                "id": "wY1_NFhpMkzW",
                "executionInfo": {
                    "status": "ok",
                    "timestamp": 1650933181665,
                    "user_tz": 420,
                    "elapsed": 3302,
                    "user": {
                        "displayName": "Rehan Ahmed",
                        "userId": "05041072222578354690"
                    }
                }
            },
            "execution_count": 4,
            "outputs": []
        },
        {
            "cell_type": "markdown",
            "source": [
                "## Config"
            ],
            "metadata": {
                "id": "AccxZfweA3ZG"
            }
        },
        {
            "cell_type": "code",
            "source": [
                "AUDIO_TIMESTEPS = 600\n",
                "VIDEO_TIMESTEPS = 263\n",
                "BATCH_SIZE = 64\n",
                "DEVICE = torch.device('cuda:0' if torch.cuda.is_available() else 'cpu')\n",
                "print(f'Device: {DEVICE}')"
            ],
            "metadata": {
                "colab": {
                    "base_uri": "https://localhost:8080/"
                },
                "id": "FigtnxAUA3kJ",
                "executionInfo": {
                    "status": "ok",
                    "timestamp": 1650933181666,
                    "user_tz": 420,
                    "elapsed": 32,
                    "user": {
                        "displayName": "Rehan Ahmed",
                        "userId": "05041072222578354690"
                    }
                },
                "outputId": "70e23eb9-1e28-4f03-f0e2-716e8524a509"
            },
            "execution_count": 5,
            "outputs": [
                {
                    "output_type": "stream",
                    "name": "stdout",
                    "text": [
                        "Device: cuda:0\n"
                    ]
                }
            ]
        },
        {
            "cell_type": "markdown",
            "source": [
                "## Load Embeddings"
            ],
            "metadata": {
                "id": "vFXtao2MA30l"
            }
        },
        {
            "cell_type": "code",
            "source": [
                "# Load audio\n",
                "audio_data = torch.load('audios_timesteps_wavlm.pt')"
            ],
            "metadata": {
                "id": "3CE87Zm_M6hp",
                "executionInfo": {
                    "status": "ok",
                    "timestamp": 1650933261246,
                    "user_tz": 420,
                    "elapsed": 79598,
                    "user": {
                        "displayName": "Rehan Ahmed",
                        "userId": "05041072222578354690"
                    }
                }
            },
            "execution_count": 6,
            "outputs": []
        },
        {
            "cell_type": "code",
            "source": [
                "# Load text\n",
                "with open('NEW_EMBEDDINGS_FINALLY.pkl', 'rb') as f_in:\n",
                "    text_data = pickle.load(f_in)"
            ],
            "metadata": {
                "id": "IFaFeZd5NB2h",
                "executionInfo": {
                    "status": "ok",
                    "timestamp": 1650933263297,
                    "user_tz": 420,
                    "elapsed": 2099,
                    "user": {
                        "displayName": "Rehan Ahmed",
                        "userId": "05041072222578354690"
                    }
                }
            },
            "execution_count": 7,
            "outputs": []
        },
        {
            "cell_type": "code",
            "source": [
                "# Load video\n",
                "with open('IEMOCAP_embs_dict_with_0.pkl', 'rb') as f_in:\n",
                "    video_data_raw = pickle.load(f_in)\n",
                "\n",
                "video_data = {}\n",
                "for key, value in video_data_raw.items():\n",
                "    filename = key.split('/')[-1].split('.')[0]\n",
                "    embedding = value.squeeze(dim=1)\n",
                "    video_data[filename] = embedding\n",
                "\n",
                "del video_data_raw"
            ],
            "metadata": {
                "id": "uZXKiu2Z2H12",
                "executionInfo": {
                    "status": "ok",
                    "timestamp": 1650933289180,
                    "user_tz": 420,
                    "elapsed": 25892,
                    "user": {
                        "displayName": "Rehan Ahmed",
                        "userId": "05041072222578354690"
                    }
                }
            },
            "execution_count": 8,
            "outputs": []
        },
        {
            "cell_type": "code",
            "source": [
                "video_keys = set(video_data.keys())\n",
                "audio_keys = set(audio_data.keys())\n",
                "text_keys = set(text_data.keys())\n",
                "shared_keys = video_keys.intersection(audio_keys).intersection(text_keys)\n",
                "\n",
                "print(f\"Video : {len(video_data)}\")\n",
                "print(f\"Audio : {len(audio_data)}\")\n",
                "print(f\"Text  : {len(text_data)}\")\n",
                "print(f\"Shared: {len(shared_keys)}\")"
            ],
            "metadata": {
                "id": "YR-NGGunPchT",
                "executionInfo": {
                    "status": "ok",
                    "timestamp": 1650933289181,
                    "user_tz": 420,
                    "elapsed": 43,
                    "user": {
                        "displayName": "Rehan Ahmed",
                        "userId": "05041072222578354690"
                    }
                },
                "colab": {
                    "base_uri": "https://localhost:8080/"
                },
                "outputId": "fd1246f7-8978-4705-ee01-f466fa15d672"
            },
            "execution_count": 9,
            "outputs": [
                {
                    "output_type": "stream",
                    "name": "stdout",
                    "text": [
                        "Video : 7380\n",
                        "Audio : 7529\n",
                        "Text  : 7380\n",
                        "Shared: 7380\n"
                    ]
                }
            ]
        },
        {
            "cell_type": "markdown",
            "source": [
                "## Load Metadata"
            ],
            "metadata": {
                "id": "Qxv0zLj88ShR"
            }
        },
        {
            "cell_type": "code",
            "source": [
                "# Get filepath for all labeling files\n",
                "files = set()\n",
                "for session_num in range(1, 6):\n",
                "    path = f'IEMOCAP_full_release/Session{session_num}/dialog/EmoEvaluation'\n",
                "    files.update(glob(path+'/*.txt'))"
            ],
            "metadata": {
                "id": "RXLENDC88T7S",
                "executionInfo": {
                    "status": "ok",
                    "timestamp": 1650933298801,
                    "user_tz": 420,
                    "elapsed": 9651,
                    "user": {
                        "displayName": "Rehan Ahmed",
                        "userId": "05041072222578354690"
                    }
                }
            },
            "execution_count": 10,
            "outputs": []
        },
        {
            "cell_type": "code",
            "source": [
                "# Load labels from files\n",
                "labels = dict()\n",
                "for file in tqdm(files):\n",
                "    with open(file, 'r') as f_in:\n",
                "        for idx, line in enumerate(f_in.readlines()):\n",
                "            line = line.split('\\t')\n",
                "            if len(line) > 3: \n",
                "                labels[line[1]] = line[2]\n",
                "print(f'\\n' + 'Got {len(labels)} labels.')"
            ],
            "metadata": {
                "colab": {
                    "base_uri": "https://localhost:8080/"
                },
                "id": "OwnZMX1l8T8t",
                "executionInfo": {
                    "status": "ok",
                    "timestamp": 1650933377092,
                    "user_tz": 420,
                    "elapsed": 78308,
                    "user": {
                        "displayName": "Rehan Ahmed",
                        "userId": "05041072222578354690"
                    }
                },
                "outputId": "de31ebbe-deef-4abd-ea5e-95d1fea32127"
            },
            "execution_count": 11,
            "outputs": [
                {
                    "output_type": "stream",
                    "name": "stderr",
                    "text": [
                        "100%|██████████| 151/151 [01:18<00:00,  1.93it/s]"
                    ]
                },
                {
                    "output_type": "stream",
                    "name": "stdout",
                    "text": [
                        "\n",
                        "Got {len(labels)} labels.\n"
                    ]
                },
                {
                    "output_type": "stream",
                    "name": "stderr",
                    "text": [
                        "\n"
                    ]
                }
            ]
        },
        {
            "cell_type": "code",
            "source": [
                "# Convert to Data Frame\n",
                "df = pd.DataFrame(labels, index=['Emotion']).T\n",
                "df['Filename'] = df.index.to_list()\n",
                "df['Filepath'] = df['Filename'].apply(lambda filename: 'IEMOCAP_audios/'+filename+'.wav')\n",
                "df['Emotion'] = df['Emotion'].replace('xxx', 'oth')\n",
                "df['Emotion'] = df['Emotion'].replace('exc', 'hap')\n",
                "df_all = df.copy()\n",
                "df = df[~df['Emotion'].isin(['oth', 'fea', 'sur', 'dis'])]"
            ],
            "metadata": {
                "id": "aT-Yde7r8udx",
                "executionInfo": {
                    "status": "ok",
                    "timestamp": 1650933377093,
                    "user_tz": 420,
                    "elapsed": 37,
                    "user": {
                        "displayName": "Rehan Ahmed",
                        "userId": "05041072222578354690"
                    }
                }
            },
            "execution_count": 12,
            "outputs": []
        },
        {
            "cell_type": "code",
            "source": [
                "def get_metadata(row):\n",
                "\n",
                "    # Handle scripted actions\n",
                "    if 'script' in row.name:\n",
                "        parts = row.name.split('_')\n",
                "        session = parts[0][3:5]\n",
                "        gender = parts[0][5]\n",
                "        interaction = parts[1][:-2]\n",
                "        sequence = parts[1][-2:]\n",
                "        section = parts[2]\n",
                "        utterance = parts[3][1:]\n",
                "\n",
                "    # Handle improvisations\n",
                "    elif 'impro' in row.name:\n",
                "        parts = row.name.split('_')\n",
                "        session = parts[0][3:5]\n",
                "        gender = parts[0][5]\n",
                "        interaction = parts[1][:-2]\n",
                "        sequence = parts[1][-2:]\n",
                "        section = None\n",
                "        utterance = parts[2][1:]\n",
                "\n",
                "    else:\n",
                "        raise Exception(f'Error on {row.name}')\n",
                "\n",
                "    return session, gender, interaction, sequence, section, utterance"
            ],
            "metadata": {
                "id": "YeZfExa58ugH",
                "executionInfo": {
                    "status": "ok",
                    "timestamp": 1650933377094,
                    "user_tz": 420,
                    "elapsed": 34,
                    "user": {
                        "displayName": "Rehan Ahmed",
                        "userId": "05041072222578354690"
                    }
                }
            },
            "execution_count": 13,
            "outputs": []
        },
        {
            "cell_type": "code",
            "source": [
                "# Extract Metadata\n",
                "df[['Session', 'Gender', 'Interaction', 'Sequence', 'Section', 'Utterance']]  = df.apply(lambda row: get_metadata(row), axis='columns', result_type='expand')\n",
                "df['Session'] = pd.to_numeric(df['Session'])\n",
                "df['Utterance'] = pd.to_numeric(df['Utterance'])"
            ],
            "metadata": {
                "id": "lNteY7DB8uin",
                "executionInfo": {
                    "status": "ok",
                    "timestamp": 1650933377439,
                    "user_tz": 420,
                    "elapsed": 10,
                    "user": {
                        "displayName": "Rehan Ahmed",
                        "userId": "05041072222578354690"
                    }
                }
            },
            "execution_count": 14,
            "outputs": []
        },
        {
            "cell_type": "code",
            "source": [
                "# Class weights\n",
                "class_counts = df['Emotion'].value_counts().sort_index()\n",
                "class_names = class_counts.index.tolist()\n",
                "class_weights = 1.0 / torch.tensor(class_counts.values, dtype=torch.float32)"
            ],
            "metadata": {
                "id": "ApJ3Cmtw8xsV",
                "executionInfo": {
                    "status": "ok",
                    "timestamp": 1650933377440,
                    "user_tz": 420,
                    "elapsed": 10,
                    "user": {
                        "displayName": "Rehan Ahmed",
                        "userId": "05041072222578354690"
                    }
                }
            },
            "execution_count": 15,
            "outputs": []
        },
        {
            "cell_type": "code",
            "source": [
                "# Generate label encodings\n",
                "idx_to_label = {idx:label for idx, label in enumerate(class_names)}\n",
                "label_to_idx = {label:idx for idx, label in enumerate(class_names)}\n",
                "df['Label'] = df['Emotion'].map(label_to_idx)"
            ],
            "metadata": {
                "id": "u2olbZ908xtr",
                "executionInfo": {
                    "status": "ok",
                    "timestamp": 1650933377442,
                    "user_tz": 420,
                    "elapsed": 11,
                    "user": {
                        "displayName": "Rehan Ahmed",
                        "userId": "05041072222578354690"
                    }
                }
            },
            "execution_count": 16,
            "outputs": []
        },
        {
            "cell_type": "code",
            "source": [
                "# Train, Test, Validation\n",
                "df_train = df[df['Session'] < 5]\n",
                "df_valid = df[(df['Session'] == 5) & (df['Utterance'] % 2 == 0)]\n",
                "df_test = df[(df['Session'] == 5) & (df['Utterance'] % 2 == 1)]"
            ],
            "metadata": {
                "id": "J9EdZuBa80A2",
                "executionInfo": {
                    "status": "ok",
                    "timestamp": 1650933377442,
                    "user_tz": 420,
                    "elapsed": 10,
                    "user": {
                        "displayName": "Rehan Ahmed",
                        "userId": "05041072222578354690"
                    }
                }
            },
            "execution_count": 17,
            "outputs": []
        },
        {
            "cell_type": "code",
            "source": [
                "# One Hot Encode labels\n",
                "OHE = OneHotEncoder(sparse=False)\n",
                "OHE.fit(np.array(df['Label']).reshape(-1, 1))\n",
                "true_onehot_train = OHE.transform(np.array(df_train['Label']).reshape(-1, 1))\n",
                "true_onehot_valid = OHE.transform(np.array(df_valid['Label']).reshape(-1, 1))\n",
                "true_onehot_test = OHE.transform(np.array(df_test['Label']).reshape(-1, 1))"
            ],
            "metadata": {
                "id": "t2FTuLtT817B",
                "executionInfo": {
                    "status": "ok",
                    "timestamp": 1650933377443,
                    "user_tz": 420,
                    "elapsed": 11,
                    "user": {
                        "displayName": "Rehan Ahmed",
                        "userId": "05041072222578354690"
                    }
                }
            },
            "execution_count": 18,
            "outputs": []
        },
        {
            "cell_type": "markdown",
            "source": [
                "## Dataloader"
            ],
            "metadata": {
                "id": "amzGMpkx7ykN"
            }
        },
        {
            "cell_type": "code",
            "source": [
                "class ClassifierDataset(torch.utils.data.Dataset):\n",
                "    \n",
                "    def __init__(self, \n",
                "                 data_table: pd.core.frame.DataFrame):\n",
                "        \n",
                "        self.data_table = data_table.reset_index(drop=True)\n",
                "\n",
                "        \n",
                "    def __getitem__(self, idx: int) -> Tuple[torch.tensor, int]:\n",
                "\n",
                "        self.audio = audio_data[self.data_table.at[idx, 'Filename']]\n",
                "        self.text = text_data[self.data_table.at[idx, 'Filename']]\n",
                "        self.video = video_data[self.data_table.at[idx, 'Filename']]\n",
                "\n",
                "        label = self.data_table.at[idx, 'Emotion']\n",
                "        self.y = label_to_idx[label]\n",
                "\n",
                "        return (self.audio, self.text, self.video), self.y\n",
                "        \n",
                "    def __len__ (self):\n",
                "        return len(self.data_table)"
            ],
            "metadata": {
                "id": "HKMZP21y7xyS",
                "executionInfo": {
                    "status": "ok",
                    "timestamp": 1650933377444,
                    "user_tz": 420,
                    "elapsed": 11,
                    "user": {
                        "displayName": "Rehan Ahmed",
                        "userId": "05041072222578354690"
                    }
                }
            },
            "execution_count": 19,
            "outputs": []
        },
        {
            "cell_type": "code",
            "source": [
                "# Datasets\n",
                "train_dataset = ClassifierDataset(df_train)\n",
                "valid_dataset = ClassifierDataset(df_valid)\n",
                "test_dataset = ClassifierDataset(df_test)\n",
                "full_dataset = ClassifierDataset(df)"
            ],
            "metadata": {
                "id": "6xLp7hZr37GF",
                "executionInfo": {
                    "status": "ok",
                    "timestamp": 1650933377444,
                    "user_tz": 420,
                    "elapsed": 10,
                    "user": {
                        "displayName": "Rehan Ahmed",
                        "userId": "05041072222578354690"
                    }
                }
            },
            "execution_count": 20,
            "outputs": []
        },
        {
            "cell_type": "code",
            "source": [
                "# Data loaders\n",
                "train_loader = torch.utils.data.DataLoader(dataset=train_dataset,\n",
                "                                           batch_size = BATCH_SIZE,\n",
                "                                           shuffle = True)\n",
                "valid_loader = torch.utils.data.DataLoader(dataset=valid_dataset,\n",
                "                                           batch_size = BATCH_SIZE)\n",
                "test_loader = torch.utils.data.DataLoader(dataset=test_dataset,\n",
                "                                           batch_size = BATCH_SIZE)\n",
                "full_loader = torch.utils.data.DataLoader(dataset=full_dataset,\n",
                "                                           batch_size = BATCH_SIZE)"
            ],
            "metadata": {
                "id": "1qElkzjw37JV",
                "executionInfo": {
                    "status": "ok",
                    "timestamp": 1650933377771,
                    "user_tz": 420,
                    "elapsed": 13,
                    "user": {
                        "displayName": "Rehan Ahmed",
                        "userId": "05041072222578354690"
                    }
                }
            },
            "execution_count": 21,
            "outputs": []
        },
        {
            "cell_type": "markdown",
            "source": [
                "## Model"
            ],
            "metadata": {
                "id": "XLfu6g0YBC2E"
            }
        },
        {
            "cell_type": "code",
            "source": [
                "class FusionNN(nn.Module):\n",
                "\n",
                "    def __init__(self, \n",
                "                 num_classes: int,\n",
                "                 audio_size: int = 0, \n",
                "                 text_size: int = 0, \n",
                "                 video_size: int = 0, \n",
                "                 weight: torch.tensor = None, \n",
                "                 device: str = 'cpu'):\n",
                "        \n",
                "        super(FusionNN, self).__init__()\n",
                "        self.num_classes = num_classes\n",
                "        self.weight = weight\n",
                "        self.device = device\n",
                "        self.audio_size = audio_size\n",
                "        self.text_size = text_size\n",
                "        self.video_size = video_size\n",
                "        fusion_size = audio_size//4 + text_size//4 + video_size//4\n",
                "\n",
                "        # Layers\n",
                "        self.relu = nn.LeakyReLU()\n",
                "        self.tanh = nn.Tanh()\n",
                "        \n",
                "        # Audio\n",
                "        if audio_size:\n",
                "            self.audio_lstm1 = nn.LSTM(audio_size//1, audio_size//2, bidirectional=True, batch_first=True)\n",
                "            self.audio_ln1 = nn.LayerNorm([AUDIO_TIMESTEPS, audio_size//1])\n",
                "            self.audio_do1 = nn.Dropout(0.7)\n",
                "\n",
                "            self.audio_lstm2 = nn.LSTM(audio_size//1, audio_size//4, bidirectional=False, batch_first=True)\n",
                "            self.audio_ln2 = nn.LayerNorm(audio_size//4)\n",
                "            self.audio_do2 = nn.Dropout(0.7)\n",
                "\n",
                "        # Text\n",
                "        if text_size:\n",
                "            self.text_fc1 = nn.Linear(text_size, text_size//2)\n",
                "            self.text_bn1 = nn.BatchNorm1d(text_size//2)\n",
                "            self.text_do1 = nn.Dropout(0.5)\n",
                "\n",
                "            self.text_fc2 = nn.Linear(text_size//2, text_size//4)\n",
                "            self.text_bn2 = nn.BatchNorm1d(text_size//4)\n",
                "            self.text_do2 = nn.Dropout(0.5)\n",
                "\n",
                "        # Video\n",
                "        if video_size:\n",
                "            self.video_lstm1 = nn.LSTM(video_size//1, video_size//2, bidirectional=True, batch_first=True)\n",
                "            self.video_ln1 = nn.LayerNorm([VIDEO_TIMESTEPS, video_size//1])\n",
                "            self.video_do1 = nn.Dropout(0.7)\n",
                "\n",
                "            self.video_lstm2 = nn.LSTM(video_size//1, video_size//4, bidirectional=False, batch_first=True)\n",
                "            self.video_ln2 = nn.LayerNorm(video_size//4)\n",
                "            self.video_do2 = nn.Dropout(0.7)\n",
                "\n",
                "        # Fusion\n",
                "        self.fusion_fc1 = nn.Linear(fusion_size, fusion_size)\n",
                "        self.fusion_bn1 = nn.BatchNorm1d(fusion_size)\n",
                "        self.fusion_do1 = nn.Dropout(0.5)\n",
                "\n",
                "        self.fusion_fc2 = nn.Linear(fusion_size, fusion_size)\n",
                "        self.fusion_bn2 = nn.BatchNorm1d(fusion_size)\n",
                "        self.fusion_do2 = nn.Dropout(0.5)\n",
                "\n",
                "        self.fusion_fc3 = nn.Linear(fusion_size, self.num_classes)\n",
                "\n",
                "\n",
                "        if type(self.weight) == torch.Tensor: self.loss_func = nn.CrossEntropyLoss(weight=weight.to(self.device)).to(self.device)\n",
                "        else: self.loss_func = nn.CrossEntropyLoss().to(self.device)\n",
                "        self.optimizer = AdaBelief(self.parameters(), lr=3e-4, eps=1e-12, betas=(0.9,0.999), rectify=False, print_change_log=False)\n",
                "\n",
                "        # Track loss improvements over epochs\n",
                "        self.best_loss = float('inf')\n",
                "        self.best_params = self.parameters\n",
                "\n",
                "    # x represents our data\n",
                "    def forward(self, audio_x, text_x, video_x, batch_size):\n",
                "\n",
                "        # Audio\n",
                "        if audio_x is not None:\n",
                "            audio_x, (h_0, c_0) = self.audio_lstm1(audio_x)\n",
                "            audio_x = self.audio_ln1(audio_x)\n",
                "            audio_x = self.relu(audio_x) \n",
                "            audio_x = self.audio_do1(audio_x)\n",
                "\n",
                "            audio_x, (h_1, c_1) = self.audio_lstm2(audio_x)\n",
                "            audio_x = audio_x[:, -1, :] # equivalent of return_sequences = False\n",
                "            audio_x = self.audio_ln2(audio_x)\n",
                "            audio_x = self.relu(audio_x) \n",
                "            audio_x = self.audio_do2(audio_x)\n",
                "        else:\n",
                "            audio_x = torch.zeros((batch_size, self.audio_size//4), dtype=torch.float, device=self.device)\n",
                "\n",
                "        # Text\n",
                "        if text_x is not None:\n",
                "            text_x = self.text_fc1(text_x)\n",
                "            text_x = self.text_bn1(text_x)\n",
                "            text_x = self.relu(text_x)\n",
                "            text_x = self.text_do1(text_x)\n",
                "\n",
                "            text_x = self.text_fc2(text_x)\n",
                "            text_x = self.text_bn2(text_x)\n",
                "            text_x = self.relu(text_x)\n",
                "            text_x = self.text_do2(text_x)\n",
                "        else:\n",
                "            text_x = torch.zeros((batch_size, self.text_size//4), dtype=torch.float, device=self.device)\n",
                "\n",
                "        # Video\n",
                "        if video_x is not None:\n",
                "            video_x, (h_0, c_0) = self.video_lstm1(video_x)\n",
                "            video_x = self.video_ln1(video_x)\n",
                "            video_x = self.relu(video_x) \n",
                "            video_x = self.video_do1(video_x)\n",
                "\n",
                "            video_x, (h_1, c_1) = self.video_lstm2(video_x)\n",
                "            video_x = video_x[:, -1, :] # equivalent of return_sequences = False\n",
                "            video_x = self.video_ln2(video_x)\n",
                "            video_x = self.relu(video_x) \n",
                "            video_x = self.video_do2(video_x)\n",
                "        else:\n",
                "            video_x = torch.zeros((batch_size, self.video_size//4), dtype=torch.float, device=self.device)\n",
                "\n",
                "        # Fusion\n",
                "        # print(audio_x.shape)\n",
                "        # print(text_x.shape)\n",
                "        # print(video_x.shape)\n",
                "        x = torch.cat([audio_x, text_x, video_x], dim=-1)\n",
                "        x = self.fusion_fc1(x)\n",
                "        x = self.fusion_bn1(x)\n",
                "        x = self.relu(x)\n",
                "        x = self.fusion_do1(x)\n",
                "\n",
                "        x = self.fusion_fc2(x)\n",
                "        x = self.fusion_bn2(x)\n",
                "        x = self.relu(x)\n",
                "        x = self.fusion_do2(x)\n",
                "\n",
                "        x = self.fusion_fc3(x)\n",
                "        output = nn.functional.softmax(x, dim=1)\n",
                "        return output\n",
                "\n",
                "\n",
                "    # Return a dictionary with the total number of parameters\n",
                "    def get_num_parameters(self):\n",
                "        total_params = sum(p.numel() for p in self.parameters())\n",
                "        trainable_params = sum(p.numel() for p in self.parameters() if p.requires_grad)\n",
                "        return {'total_parameters': total_params, 'trainable_parameters': trainable_params}\n",
                "\n",
                "    def fit(self, \n",
                "            train_loader: torch.utils.data.dataloader.DataLoader, \n",
                "            valid_loader: torch.utils.data.dataloader.DataLoader = None, \n",
                "            epochs = 50, \n",
                "            print_data = False,\n",
                "            model_name = None):\n",
                "        self.model_name = model_name\n",
                "        \n",
                "        for epoch in range(epochs):\n",
                "            start_time = time.time()\n",
                "            truth_onehot_train = np.ndarray(shape=(0, self.num_classes))\n",
                "            proba_onehot_train = np.ndarray(shape=(0, self.num_classes))\n",
                "            LOSS_train, ACC_train, F1_train, ROC_AUC_train = 0.0, 0.0, 0.0, 0.0\n",
                "\n",
                "            # Training data\n",
                "            self.train()\n",
                "            for j, data in enumerate(train_loader):\n",
                "\n",
                "                # Get the inputs; data is a list of [inputs, labels]\n",
                "                audio_x, text_x, video_x, y = self.unpack_data(data)    \n",
                "                audio_len = audio_x.shape[0] if audio_x != None else 0\n",
                "                text_len = text_x.shape[0] if text_x != None else 0\n",
                "                video_len = video_x.shape[0] if video_x != None else 0\n",
                "                batch_size = max(audio_len, text_len, video_len)            \n",
                "\n",
                "                # Forward (aka predict)\n",
                "                pred_probas = self.forward(audio_x, text_x, video_x, batch_size)\n",
                "                pred_labels = torch.argmax(pred_probas, dim=1)\n",
                "\n",
                "                # Loss\n",
                "                loss = self.loss_func(pred_probas, y)\n",
                "                LOSS_train += loss.item()\n",
                "                \n",
                "                # Back propagation\n",
                "                self.optimizer.zero_grad()\n",
                "                loss.backward() # back progragation\n",
                "                self.optimizer.step() # gradient descent\n",
                "\n",
                "                # Store Predictions\n",
                "                batch_onehot_truth = OHE.transform(y.detach().cpu().numpy().reshape(-1, 1))\n",
                "                truth_onehot_train = np.concatenate((truth_onehot_train, batch_onehot_truth))\n",
                "                batch_onehot_proba = pred_probas.detach().cpu().numpy()\n",
                "                proba_onehot_train = np.concatenate((proba_onehot_train, batch_onehot_proba))\n",
                "\n",
                "            # Get epoch metrics\n",
                "            LOSS_train /= len(train_loader)\n",
                "            ACC_train, F1_train, ROC_AUC_train = self._get_metrics(truth_onehot_train, proba_onehot_train)\n",
                "\n",
                "            # Evaluate on validation set + Early Stopping\n",
                "            if valid_loader is not None:\n",
                "                LOSS_valid, ACC_valid, F1_valid, ROC_AUC_valid = self._evaluate(valid_loader)\n",
                "                if self._check_early_stop(LOSS_valid): break\n",
                "            else:\n",
                "                if self._check_early_stop(LOSS_train): break\n",
                "            \n",
                "            # At the end of epoch, print metrics\n",
                "            if valid_loader is not None:\n",
                "                print(f'EPOCH: {epoch+1:>3}' + '   |   '  + \n",
                "                      f'LOSS: Train = {LOSS_train:.4f}   Valid = {LOSS_valid:.4f}' + '   |   '  + \n",
                "                      f'ACCURACY: Train = {ACC_train:.4f}   Valid = {ACC_valid:.4f}' + '   |   '  + \n",
                "                      f'F1 SCORE: Train = {F1_train:.4f}   Valid = {F1_valid:.4f}' + '   |   '  + \n",
                "                      f'ROC-AUC: Train = {ROC_AUC_train:.4f}   Valid = {ROC_AUC_valid:.4f}' + '   |   '  + \n",
                "                      f'DURATION: {(time.time() - start_time):.0f} seconds')\n",
                "            else:\n",
                "                print(f'EPOCH: {epoch+1:>3}' + '   |   '  + \n",
                "                      f'LOSS: Train = {LOSS_train:.4f}' + '   |   '  + \n",
                "                      f'ACCURACY: Train = {ACC_train:.4f}' + '   |   '  + \n",
                "                      f'F1 SCORE: Train = {F1_train:.4f}' + '   |   '  + \n",
                "                      f'ROC-AUC: Train = {ROC_AUC_train:.4f}' + '   |   '  + \n",
                "                      f'DURATION: {(time.time() - start_time):.0f} seconds')\n",
                "\n",
                "    def _check_early_stop(self, LOSS):\n",
                "        if LOSS < self.best_loss:\n",
                "            self.best_loss = LOSS\n",
                "            self.best_params = self.parameters\n",
                "            if type(self.model_name) == str: torch.save(self, self.model_name)\n",
                "            self.patience = 30\n",
                "            return False\n",
                "        else:\n",
                "            self.patience -= 1\n",
                "            if self.patience <= 0:\n",
                "                self.parameters = self.best_params\n",
                "                print('Early Stopping')\n",
                "                return True\n",
                "\n",
                "    def _evaluate(self, \n",
                "                  valid_loader: torch.utils.data.dataloader.DataLoader):\n",
                "        # Validation data\n",
                "        self.eval()\n",
                "        with torch.no_grad():\n",
                "\n",
                "            truth_onehot_valid = np.ndarray(shape=(0, self.num_classes))\n",
                "            proba_onehot_valid = np.ndarray(shape=(0, self.num_classes))\n",
                "            LOSS_valid, ACC_valid, F1_valid, ROC_AUC_valid = 0.0, 0.0, 0.0, 0.0\n",
                "\n",
                "            for k, data in enumerate(valid_loader):\n",
                "\n",
                "                # Get the inputs; data is a list of [inputs, labels]\n",
                "                audio_x, text_x, video_x, y = self.unpack_data(data)   \n",
                "                audio_len = audio_x.shape[0] if audio_x != None else 0\n",
                "                text_len = text_x.shape[0] if text_x != None else 0\n",
                "                video_len = video_x.shape[0] if video_x != None else 0\n",
                "                batch_size = max(audio_len, text_len, video_len)              \n",
                "\n",
                "                # Forward (aka predict)\n",
                "                pred_probas = self.forward(audio_x, text_x, video_x, batch_size)\n",
                "\n",
                "                # Loss\n",
                "                loss = self.loss_func(pred_probas, y)\n",
                "                LOSS_valid += loss.item()\n",
                "\n",
                "                # Store Predictions\n",
                "                batch_onehot_truth = OHE.transform(y.detach().cpu().numpy().reshape(-1, 1))\n",
                "                truth_onehot_valid = np.concatenate((truth_onehot_valid, batch_onehot_truth))\n",
                "                batch_onehot_proba = pred_probas.detach().cpu().numpy()\n",
                "                proba_onehot_valid = np.concatenate((proba_onehot_valid, batch_onehot_proba))\n",
                "\n",
                "            # Get epoch metrics\n",
                "            LOSS_valid /= len(valid_loader)\n",
                "            ACC_valid, F1_valid, ROC_AUC_valid = self._get_metrics(truth_onehot_valid, proba_onehot_valid)\n",
                "\n",
                "        return LOSS_valid, ACC_valid, F1_valid, ROC_AUC_valid\n",
                "\n",
                "    def _get_metrics(self, true_onehot, pred_probas):\n",
                "        true_labels = np.argmax(true_onehot, axis=-1)\n",
                "        pred_labels = np.argmax(pred_probas, axis=-1)\n",
                "        acc = accuracy_score(y_true=true_labels, y_pred=pred_labels)\n",
                "        f1 = f1_score(y_true=true_labels, y_pred=pred_labels, average='macro')\n",
                "        roc = roc_auc_score(y_true=true_onehot, y_score=pred_probas)\n",
                "        return acc, f1, roc\n",
                "\n",
                "    # Predict labels\n",
                "    def predict(self, \n",
                "                test_loader:torch.utils.data.dataloader.DataLoader):\n",
                "        # Test data\n",
                "        self.eval()\n",
                "        with torch.no_grad():\n",
                "            output = list()\n",
                "\n",
                "            for _, data in enumerate(test_loader):\n",
                "\n",
                "                # Get the inputs; data is a list of [inputs, labels]\n",
                "                audio_x, text_x, video_x, y = self.unpack_data(data)    \n",
                "                audio_len = audio_x.shape[0] if audio_x != None else 0\n",
                "                text_len = text_x.shape[0] if text_x != None else 0\n",
                "                video_len = video_x.shape[0] if video_x != None else 0\n",
                "                batch_size = max(audio_len, text_len, video_len)          \n",
                "\n",
                "                # Forward (aka predict)\n",
                "                pred_probas = self.forward(audio_x, text_x, video_x, batch_size)\n",
                "                pred_labels = np.argmax(pred_probas.detach().cpu(), axis=-1)\n",
                "\n",
                "                # Append to output\n",
                "                pred_labels = pred_labels.tolist()\n",
                "                output.extend(pred_labels)\n",
                "            \n",
                "        return output\n",
                "\n",
                "    # Predict probabilities\n",
                "    def predict_probas(self, \n",
                "                       test_loader:torch.utils.data.dataloader.DataLoader):\n",
                "        # Test data\n",
                "        self.eval()\n",
                "        with torch.no_grad():\n",
                "            output = list()\n",
                "\n",
                "            for _, data in enumerate(test_loader):\n",
                "\n",
                "                # Get the inputs; data is a list of [inputs, labels]\n",
                "                audio_x, text_x, video_x, y = self.unpack_data(data)\n",
                "                audio_len = audio_x.shape[0] if audio_x != None else 0\n",
                "                text_len = text_x.shape[0] if text_x != None else 0\n",
                "                video_len = video_x.shape[0] if video_x != None else 0\n",
                "                batch_size = max(audio_len, text_len, video_len)   \n",
                "\n",
                "                # Forward (aka predict)\n",
                "                pred_probas = self.forward(audio_x, text_x, video_x, batch_size)\n",
                "\n",
                "                # Append to output\n",
                "                output.extend(pred_probas.tolist())\n",
                "            \n",
                "        return output\n",
                "\n",
                "    # Unpack data and send to device\n",
                "    def unpack_data(self, data):\n",
                "        # Get the inputs; data is a list of [inputs, labels]\n",
                "        X, y = data\n",
                "        audio_x, text_x, video_x = X\n",
                "        audio_x = audio_x.to(self.device)\n",
                "        text_x = text_x.to(self.device)\n",
                "        video_x = video_x.to(self.device)\n",
                "        y = y.to(self.device)\n",
                "\n",
                "        return audio_x, text_x, video_x, y  "
            ],
            "metadata": {
                "id": "LrMaJXppBADR",
                "executionInfo": {
                    "status": "ok",
                    "timestamp": 1650943035963,
                    "user_tz": 420,
                    "elapsed": 1135,
                    "user": {
                        "displayName": "Rehan Ahmed",
                        "userId": "05041072222578354690"
                    }
                }
            },
            "execution_count": 94,
            "outputs": []
        },
        {
            "cell_type": "markdown",
            "source": [
                "## Training"
            ],
            "metadata": {
                "id": "cF0-JgwiVm8_"
            }
        },
        {
            "cell_type": "code",
            "source": [
                "model = FusionNN(audio_size = 400,\n",
                "                text_size = 768,\n",
                "                video_size = 512,\n",
                "                num_classes = len(class_names),\n",
                "                weight = class_weights,\n",
                "                device = DEVICE)\n",
                "model.to(DEVICE)"
            ],
            "metadata": {
                "colab": {
                    "base_uri": "https://localhost:8080/"
                },
                "id": "LQpTU1cjBPfp",
                "executionInfo": {
                    "status": "ok",
                    "timestamp": 1650943035964,
                    "user_tz": 420,
                    "elapsed": 11,
                    "user": {
                        "displayName": "Rehan Ahmed",
                        "userId": "05041072222578354690"
                    }
                },
                "outputId": "f937e0c0-4826-44ca-b0d5-14585b2a6c82"
            },
            "execution_count": 95,
            "outputs": [
                {
                    "output_type": "stream",
                    "name": "stdout",
                    "text": [
                        "Weight decoupling enabled in AdaBelief\n"
                    ]
                },
                {
                    "output_type": "execute_result",
                    "data": {
                        "text/plain": [
                            "FusionNN(\n",
                            "  (relu): LeakyReLU(negative_slope=0.01)\n",
                            "  (tanh): Tanh()\n",
                            "  (audio_lstm1): LSTM(400, 200, batch_first=True, bidirectional=True)\n",
                            "  (audio_ln1): LayerNorm((600, 400), eps=1e-05, elementwise_affine=True)\n",
                            "  (audio_do1): Dropout(p=0.7, inplace=False)\n",
                            "  (audio_lstm2): LSTM(400, 100, batch_first=True)\n",
                            "  (audio_ln2): LayerNorm((100,), eps=1e-05, elementwise_affine=True)\n",
                            "  (audio_do2): Dropout(p=0.7, inplace=False)\n",
                            "  (text_fc1): Linear(in_features=768, out_features=384, bias=True)\n",
                            "  (text_bn1): BatchNorm1d(384, eps=1e-05, momentum=0.1, affine=True, track_running_stats=True)\n",
                            "  (text_do1): Dropout(p=0.5, inplace=False)\n",
                            "  (text_fc2): Linear(in_features=384, out_features=192, bias=True)\n",
                            "  (text_bn2): BatchNorm1d(192, eps=1e-05, momentum=0.1, affine=True, track_running_stats=True)\n",
                            "  (text_do2): Dropout(p=0.5, inplace=False)\n",
                            "  (video_lstm1): LSTM(512, 256, batch_first=True, bidirectional=True)\n",
                            "  (video_ln1): LayerNorm((263, 512), eps=1e-05, elementwise_affine=True)\n",
                            "  (video_do1): Dropout(p=0.7, inplace=False)\n",
                            "  (video_lstm2): LSTM(512, 128, batch_first=True)\n",
                            "  (video_ln2): LayerNorm((128,), eps=1e-05, elementwise_affine=True)\n",
                            "  (video_do2): Dropout(p=0.7, inplace=False)\n",
                            "  (fusion_fc1): Linear(in_features=420, out_features=420, bias=True)\n",
                            "  (fusion_bn1): BatchNorm1d(420, eps=1e-05, momentum=0.1, affine=True, track_running_stats=True)\n",
                            "  (fusion_do1): Dropout(p=0.5, inplace=False)\n",
                            "  (fusion_fc2): Linear(in_features=420, out_features=420, bias=True)\n",
                            "  (fusion_bn2): BatchNorm1d(420, eps=1e-05, momentum=0.1, affine=True, track_running_stats=True)\n",
                            "  (fusion_do2): Dropout(p=0.5, inplace=False)\n",
                            "  (fusion_fc3): Linear(in_features=420, out_features=5, bias=True)\n",
                            "  (loss_func): CrossEntropyLoss()\n",
                            ")"
                        ]
                    },
                    "metadata": {},
                    "execution_count": 95
                }
            ]
        },
        {
            "cell_type": "code",
            "source": [
                "model_name = 'x'\n",
                "model.fit(train_loader = train_loader,\n",
                "          valid_loader = valid_loader,\n",
                "          epochs = 200,\n",
                "          model_name = model_name+'.pt')"
            ],
            "metadata": {
                "id": "pJ6esPGOBYJ4",
                "executionInfo": {
                    "status": "ok",
                    "timestamp": 1650943415576,
                    "user_tz": 420,
                    "elapsed": 379617,
                    "user": {
                        "displayName": "Rehan Ahmed",
                        "userId": "05041072222578354690"
                    }
                },
                "colab": {
                    "base_uri": "https://localhost:8080/"
                },
                "outputId": "710f61a1-72d2-4c23-e135-87cf6cb14ac1"
            },
            "execution_count": 96,
            "outputs": [
                {
                    "output_type": "stream",
                    "name": "stdout",
                    "text": [
                        "EPOCH:   1   |   LOSS: Train = 1.6160   Valid = 1.6119   |   ACCURACY: Train = 0.1924   Valid = 0.1613   |   F1 SCORE: Train = 0.1808   Valid = 0.1141   |   ROC-AUC: Train = 0.4917   Valid = 0.4758   |   DURATION: 12 seconds\n",
                        "EPOCH:   2   |   LOSS: Train = 1.6129   Valid = 1.6109   |   ACCURACY: Train = 0.1962   Valid = 0.1712   |   F1 SCORE: Train = 0.1857   Valid = 0.1214   |   ROC-AUC: Train = 0.5030   Valid = 0.4469   |   DURATION: 11 seconds\n",
                        "EPOCH:   3   |   LOSS: Train = 1.6026   Valid = 1.6064   |   ACCURACY: Train = 0.2166   Valid = 0.2475   |   F1 SCORE: Train = 0.1978   Valid = 0.1203   |   ROC-AUC: Train = 0.5329   Valid = 0.5011   |   DURATION: 11 seconds\n",
                        "EPOCH:   4   |   LOSS: Train = 1.6050   Valid = 1.6063   |   ACCURACY: Train = 0.2266   Valid = 0.2463   |   F1 SCORE: Train = 0.2063   Valid = 0.1771   |   ROC-AUC: Train = 0.5292   Valid = 0.5038   |   DURATION: 11 seconds\n",
                        "EPOCH:   5   |   LOSS: Train = 1.5949   Valid = 1.6058   |   ACCURACY: Train = 0.2341   Valid = 0.2007   |   F1 SCORE: Train = 0.2160   Valid = 0.1537   |   ROC-AUC: Train = 0.5528   Valid = 0.5016   |   DURATION: 11 seconds\n",
                        "EPOCH:   6   |   LOSS: Train = 1.5916   Valid = 1.6051   |   ACCURACY: Train = 0.2471   Valid = 0.2131   |   F1 SCORE: Train = 0.2291   Valid = 0.1851   |   ROC-AUC: Train = 0.5564   Valid = 0.5157   |   DURATION: 11 seconds\n",
                        "EPOCH:   7   |   LOSS: Train = 1.5861   Valid = 1.6130   |   ACCURACY: Train = 0.2522   Valid = 0.2007   |   F1 SCORE: Train = 0.2401   Valid = 0.1741   |   ROC-AUC: Train = 0.5691   Valid = 0.5023   |   DURATION: 10 seconds\n",
                        "EPOCH:   8   |   LOSS: Train = 1.5716   Valid = 1.6351   |   ACCURACY: Train = 0.2683   Valid = 0.1761   |   F1 SCORE: Train = 0.2526   Valid = 0.1558   |   ROC-AUC: Train = 0.5915   Valid = 0.4989   |   DURATION: 10 seconds\n",
                        "EPOCH:   9   |   LOSS: Train = 1.5641   Valid = 1.6674   |   ACCURACY: Train = 0.2805   Valid = 0.1404   |   F1 SCORE: Train = 0.2604   Valid = 0.1223   |   ROC-AUC: Train = 0.5996   Valid = 0.5085   |   DURATION: 10 seconds\n",
                        "EPOCH:  10   |   LOSS: Train = 1.5567   Valid = 1.6705   |   ACCURACY: Train = 0.2862   Valid = 0.1392   |   F1 SCORE: Train = 0.2754   Valid = 0.1256   |   ROC-AUC: Train = 0.6089   Valid = 0.5085   |   DURATION: 10 seconds\n",
                        "EPOCH:  11   |   LOSS: Train = 1.5509   Valid = 1.6674   |   ACCURACY: Train = 0.2965   Valid = 0.1502   |   F1 SCORE: Train = 0.2868   Valid = 0.1222   |   ROC-AUC: Train = 0.6140   Valid = 0.5181   |   DURATION: 10 seconds\n",
                        "EPOCH:  12   |   LOSS: Train = 1.5446   Valid = 1.6635   |   ACCURACY: Train = 0.3126   Valid = 0.1736   |   F1 SCORE: Train = 0.3095   Valid = 0.1628   |   ROC-AUC: Train = 0.6199   Valid = 0.5112   |   DURATION: 11 seconds\n",
                        "EPOCH:  13   |   LOSS: Train = 1.5316   Valid = 1.6706   |   ACCURACY: Train = 0.3350   Valid = 0.1933   |   F1 SCORE: Train = 0.3316   Valid = 0.1823   |   ROC-AUC: Train = 0.6315   Valid = 0.5156   |   DURATION: 10 seconds\n",
                        "EPOCH:  14   |   LOSS: Train = 1.5369   Valid = 1.6269   |   ACCURACY: Train = 0.3211   Valid = 0.2389   |   F1 SCORE: Train = 0.3172   Valid = 0.2169   |   ROC-AUC: Train = 0.6243   Valid = 0.5107   |   DURATION: 10 seconds\n",
                        "EPOCH:  15   |   LOSS: Train = 1.5403   Valid = 1.6420   |   ACCURACY: Train = 0.3242   Valid = 0.2020   |   F1 SCORE: Train = 0.3231   Valid = 0.1934   |   ROC-AUC: Train = 0.6287   Valid = 0.5240   |   DURATION: 10 seconds\n",
                        "EPOCH:  16   |   LOSS: Train = 1.5224   Valid = 1.6716   |   ACCURACY: Train = 0.3440   Valid = 0.1860   |   F1 SCORE: Train = 0.3438   Valid = 0.1850   |   ROC-AUC: Train = 0.6451   Valid = 0.5128   |   DURATION: 10 seconds\n",
                        "EPOCH:  17   |   LOSS: Train = 1.5141   Valid = 1.6834   |   ACCURACY: Train = 0.3572   Valid = 0.1749   |   F1 SCORE: Train = 0.3565   Valid = 0.1717   |   ROC-AUC: Train = 0.6483   Valid = 0.5193   |   DURATION: 10 seconds\n",
                        "EPOCH:  18   |   LOSS: Train = 1.5027   Valid = 1.6927   |   ACCURACY: Train = 0.3680   Valid = 0.1515   |   F1 SCORE: Train = 0.3676   Valid = 0.1429   |   ROC-AUC: Train = 0.6559   Valid = 0.5139   |   DURATION: 11 seconds\n",
                        "EPOCH:  19   |   LOSS: Train = 1.5047   Valid = 1.6889   |   ACCURACY: Train = 0.3637   Valid = 0.1613   |   F1 SCORE: Train = 0.3638   Valid = 0.1524   |   ROC-AUC: Train = 0.6549   Valid = 0.5199   |   DURATION: 10 seconds\n",
                        "EPOCH:  20   |   LOSS: Train = 1.4940   Valid = 1.6921   |   ACCURACY: Train = 0.3805   Valid = 0.1675   |   F1 SCORE: Train = 0.3806   Valid = 0.1581   |   ROC-AUC: Train = 0.6626   Valid = 0.5252   |   DURATION: 10 seconds\n",
                        "EPOCH:  21   |   LOSS: Train = 1.4815   Valid = 1.6897   |   ACCURACY: Train = 0.3948   Valid = 0.1663   |   F1 SCORE: Train = 0.3942   Valid = 0.1555   |   ROC-AUC: Train = 0.6743   Valid = 0.5332   |   DURATION: 10 seconds\n",
                        "EPOCH:  22   |   LOSS: Train = 1.4826   Valid = 1.6831   |   ACCURACY: Train = 0.3944   Valid = 0.1724   |   F1 SCORE: Train = 0.3943   Valid = 0.1605   |   ROC-AUC: Train = 0.6700   Valid = 0.5314   |   DURATION: 11 seconds\n",
                        "EPOCH:  23   |   LOSS: Train = 1.4830   Valid = 1.7027   |   ACCURACY: Train = 0.3909   Valid = 0.1700   |   F1 SCORE: Train = 0.3911   Valid = 0.1497   |   ROC-AUC: Train = 0.6722   Valid = 0.5227   |   DURATION: 11 seconds\n",
                        "EPOCH:  24   |   LOSS: Train = 1.4719   Valid = 1.7041   |   ACCURACY: Train = 0.4038   Valid = 0.1613   |   F1 SCORE: Train = 0.4039   Valid = 0.1546   |   ROC-AUC: Train = 0.6786   Valid = 0.5232   |   DURATION: 10 seconds\n",
                        "EPOCH:  25   |   LOSS: Train = 1.4637   Valid = 1.6871   |   ACCURACY: Train = 0.4191   Valid = 0.1921   |   F1 SCORE: Train = 0.4186   Valid = 0.1889   |   ROC-AUC: Train = 0.6834   Valid = 0.5222   |   DURATION: 10 seconds\n",
                        "EPOCH:  26   |   LOSS: Train = 1.4661   Valid = 1.6586   |   ACCURACY: Train = 0.4123   Valid = 0.2365   |   F1 SCORE: Train = 0.4127   Valid = 0.2180   |   ROC-AUC: Train = 0.6799   Valid = 0.5438   |   DURATION: 10 seconds\n",
                        "EPOCH:  27   |   LOSS: Train = 1.4764   Valid = 1.6826   |   ACCURACY: Train = 0.4045   Valid = 0.1884   |   F1 SCORE: Train = 0.4045   Valid = 0.1747   |   ROC-AUC: Train = 0.6772   Valid = 0.5344   |   DURATION: 10 seconds\n",
                        "EPOCH:  28   |   LOSS: Train = 1.4586   Valid = 1.6997   |   ACCURACY: Train = 0.4225   Valid = 0.1712   |   F1 SCORE: Train = 0.4225   Valid = 0.1571   |   ROC-AUC: Train = 0.6929   Valid = 0.5287   |   DURATION: 10 seconds\n",
                        "EPOCH:  29   |   LOSS: Train = 1.4535   Valid = 1.6808   |   ACCURACY: Train = 0.4297   Valid = 0.1872   |   F1 SCORE: Train = 0.4294   Valid = 0.1689   |   ROC-AUC: Train = 0.6944   Valid = 0.5389   |   DURATION: 10 seconds\n",
                        "EPOCH:  30   |   LOSS: Train = 1.4454   Valid = 1.7126   |   ACCURACY: Train = 0.4342   Valid = 0.1613   |   F1 SCORE: Train = 0.4330   Valid = 0.1393   |   ROC-AUC: Train = 0.7001   Valid = 0.5352   |   DURATION: 10 seconds\n",
                        "EPOCH:  31   |   LOSS: Train = 1.4546   Valid = 1.6960   |   ACCURACY: Train = 0.4225   Valid = 0.1860   |   F1 SCORE: Train = 0.4235   Valid = 0.1573   |   ROC-AUC: Train = 0.6902   Valid = 0.5368   |   DURATION: 10 seconds\n",
                        "EPOCH:  32   |   LOSS: Train = 1.4505   Valid = 1.6947   |   ACCURACY: Train = 0.4213   Valid = 0.1810   |   F1 SCORE: Train = 0.4220   Valid = 0.1617   |   ROC-AUC: Train = 0.6983   Valid = 0.5385   |   DURATION: 10 seconds\n",
                        "EPOCH:  33   |   LOSS: Train = 1.4360   Valid = 1.6973   |   ACCURACY: Train = 0.4422   Valid = 0.1823   |   F1 SCORE: Train = 0.4430   Valid = 0.1626   |   ROC-AUC: Train = 0.7041   Valid = 0.5357   |   DURATION: 10 seconds\n",
                        "EPOCH:  34   |   LOSS: Train = 1.4423   Valid = 1.6685   |   ACCURACY: Train = 0.4397   Valid = 0.2254   |   F1 SCORE: Train = 0.4403   Valid = 0.1880   |   ROC-AUC: Train = 0.6982   Valid = 0.5440   |   DURATION: 10 seconds\n",
                        "EPOCH:  35   |   LOSS: Train = 1.4357   Valid = 1.7105   |   ACCURACY: Train = 0.4411   Valid = 0.1823   |   F1 SCORE: Train = 0.4421   Valid = 0.1375   |   ROC-AUC: Train = 0.7036   Valid = 0.5286   |   DURATION: 10 seconds\n",
                        "Early Stopping\n"
                    ]
                }
            ]
        },
        {
            "cell_type": "markdown",
            "source": [
                "## Evaluate Model"
            ],
            "metadata": {
                "id": "K4CSVpYVdf4u"
            }
        },
        {
            "cell_type": "code",
            "source": [
                "model = torch.load(f=model_name+'.pt')\n",
                "pd.options.display.float_format = \"{:,.2f}\".format"
            ],
            "metadata": {
                "id": "ecT7nVDLBniN",
                "executionInfo": {
                    "status": "ok",
                    "timestamp": 1650943415577,
                    "user_tz": 420,
                    "elapsed": 36,
                    "user": {
                        "displayName": "Rehan Ahmed",
                        "userId": "05041072222578354690"
                    }
                }
            },
            "execution_count": 97,
            "outputs": []
        },
        {
            "cell_type": "code",
            "source": [
                "# Evaluate on test data\n",
                "truth_test = df_test['Emotion'].map(label_to_idx)\n",
                "\n",
                "# Accuracy\n",
                "preds_test = model.predict(test_loader)\n",
                "probas_test = np.array(model.predict_probas(test_loader))\n",
                "labels_test = pd.DataFrame(probas_test, columns=class_names)\n",
                "\n",
                "# {'anger', 'disgust', 'fear', 'joy', 'neutral', 'sadness', 'surprise'}\n",
                "onehot_encoder = OneHotEncoder(sparse=False)\n",
                "true_onehot = onehot_encoder.fit_transform(np.array(truth_test).reshape(-1, 1))\n",
                "pred_onehot = onehot_encoder.transform(np.array(preds_test).reshape(-1, 1))\n",
                "\n",
                "# Metrics\n",
                "ACC_test = accuracy_score(true_onehot, pred_onehot)\n",
                "print(f'Test Accuracy: {ACC_test:.5f}')\n",
                "F1_test = f1_score(true_onehot, pred_onehot, average='macro')\n",
                "print(f'Test F1 Macro: {F1_test:.5f}')\n",
                "ROC_test = roc_auc_score(true_onehot, pred_onehot)\n",
                "print(f'ROC AUC: {ROC_test:.5f}')\n",
                "\n",
                "# Save performance to csv\n",
                "performance = {'accuracy': ACC_test,\n",
                "               'f1_macro': F1_test,\n",
                "               'roc_auc': ROC_test}\n",
                "\n",
                "df_performance = pd.DataFrame(performance, index=[0])\n",
                "df_performance.to_csv(f'performance/{model_name}.csv', index=False)"
            ],
            "metadata": {
                "id": "vzU_S0rgCsjb",
                "colab": {
                    "base_uri": "https://localhost:8080/"
                },
                "executionInfo": {
                    "status": "ok",
                    "timestamp": 1650943417720,
                    "user_tz": 420,
                    "elapsed": 2152,
                    "user": {
                        "displayName": "Rehan Ahmed",
                        "userId": "05041072222578354690"
                    }
                },
                "outputId": "50606906-a8f9-419b-9759-7a57b3bdf097"
            },
            "execution_count": 98,
            "outputs": [
                {
                    "output_type": "stream",
                    "name": "stdout",
                    "text": [
                        "Test Accuracy: 0.21852\n",
                        "Test F1 Macro: 0.19640\n",
                        "ROC AUC: 0.51702\n"
                    ]
                }
            ]
        },
        {
            "cell_type": "code",
            "source": [
                "# Store predictions for all samples\n",
                "truth_full = df['Emotion'].map(label_to_idx)\n",
                "probas_full = np.array(model.predict_probas(full_loader))\n",
                "labels_full = pd.DataFrame(probas_full, columns=class_names)\n",
                "output = pd.concat([df[['Filename']].reset_index(drop=True), labels_full], axis='columns')\n",
                "output.to_csv(f'predictions/{model_name}.csv', index=False)"
            ],
            "metadata": {
                "id": "s448U06ouwr1",
                "executionInfo": {
                    "status": "ok",
                    "timestamp": 1650943425359,
                    "user_tz": 420,
                    "elapsed": 7644,
                    "user": {
                        "displayName": "Rehan Ahmed",
                        "userId": "05041072222578354690"
                    }
                }
            },
            "execution_count": 99,
            "outputs": []
        },
        {
            "cell_type": "code",
            "source": [
                "output.sample(3)"
            ],
            "metadata": {
                "colab": {
                    "base_uri": "https://localhost:8080/",
                    "height": 143
                },
                "id": "fkbGPBayeU2j",
                "executionInfo": {
                    "status": "ok",
                    "timestamp": 1650943425363,
                    "user_tz": 420,
                    "elapsed": 33,
                    "user": {
                        "displayName": "Rehan Ahmed",
                        "userId": "05041072222578354690"
                    }
                },
                "outputId": "0373e7ff-7088-4ffd-e11b-3646c4bdc7fe"
            },
            "execution_count": 100,
            "outputs": [
                {
                    "output_type": "execute_result",
                    "data": {
                        "text/plain": [
                            "                   Filename  ang  fru  hap  neu  sad\n",
                            "965     Ses05F_impro02_M005 0.04 0.15 0.09 0.49 0.23\n",
                            "288  Ses05M_script02_1_M031 0.09 0.23 0.17 0.30 0.21\n",
                            "404  Ses01F_script02_1_M010 0.02 0.07 0.02 0.86 0.03"
                        ],
                        "text/html": [
                            "\n",
                            "  <div id=\"df-3e08a51f-37fe-45aa-ac64-76786943728a\">\n",
                            "    <div class=\"colab-df-container\">\n",
                            "      <div>\n",
                            "<style scoped>\n",
                            "    .dataframe tbody tr th:only-of-type {\n",
                            "        vertical-align: middle;\n",
                            "    }\n",
                            "\n",
                            "    .dataframe tbody tr th {\n",
                            "        vertical-align: top;\n",
                            "    }\n",
                            "\n",
                            "    .dataframe thead th {\n",
                            "        text-align: right;\n",
                            "    }\n",
                            "</style>\n",
                            "<table border=\"1\" class=\"dataframe\">\n",
                            "  <thead>\n",
                            "    <tr style=\"text-align: right;\">\n",
                            "      <th></th>\n",
                            "      <th>Filename</th>\n",
                            "      <th>ang</th>\n",
                            "      <th>fru</th>\n",
                            "      <th>hap</th>\n",
                            "      <th>neu</th>\n",
                            "      <th>sad</th>\n",
                            "    </tr>\n",
                            "  </thead>\n",
                            "  <tbody>\n",
                            "    <tr>\n",
                            "      <th>965</th>\n",
                            "      <td>Ses05F_impro02_M005</td>\n",
                            "      <td>0.04</td>\n",
                            "      <td>0.15</td>\n",
                            "      <td>0.09</td>\n",
                            "      <td>0.49</td>\n",
                            "      <td>0.23</td>\n",
                            "    </tr>\n",
                            "    <tr>\n",
                            "      <th>288</th>\n",
                            "      <td>Ses05M_script02_1_M031</td>\n",
                            "      <td>0.09</td>\n",
                            "      <td>0.23</td>\n",
                            "      <td>0.17</td>\n",
                            "      <td>0.30</td>\n",
                            "      <td>0.21</td>\n",
                            "    </tr>\n",
                            "    <tr>\n",
                            "      <th>404</th>\n",
                            "      <td>Ses01F_script02_1_M010</td>\n",
                            "      <td>0.02</td>\n",
                            "      <td>0.07</td>\n",
                            "      <td>0.02</td>\n",
                            "      <td>0.86</td>\n",
                            "      <td>0.03</td>\n",
                            "    </tr>\n",
                            "  </tbody>\n",
                            "</table>\n",
                            "</div>\n",
                            "      <button class=\"colab-df-convert\" onclick=\"convertToInteractive('df-3e08a51f-37fe-45aa-ac64-76786943728a')\"\n",
                            "              title=\"Convert this dataframe to an interactive table.\"\n",
                            "              style=\"display:none;\">\n",
                            "        \n",
                            "  <svg xmlns=\"http://www.w3.org/2000/svg\" height=\"24px\"viewBox=\"0 0 24 24\"\n",
                            "       width=\"24px\">\n",
                            "    <path d=\"M0 0h24v24H0V0z\" fill=\"none\"/>\n",
                            "    <path d=\"M18.56 5.44l.94 2.06.94-2.06 2.06-.94-2.06-.94-.94-2.06-.94 2.06-2.06.94zm-11 1L8.5 8.5l.94-2.06 2.06-.94-2.06-.94L8.5 2.5l-.94 2.06-2.06.94zm10 10l.94 2.06.94-2.06 2.06-.94-2.06-.94-.94-2.06-.94 2.06-2.06.94z\"/><path d=\"M17.41 7.96l-1.37-1.37c-.4-.4-.92-.59-1.43-.59-.52 0-1.04.2-1.43.59L10.3 9.45l-7.72 7.72c-.78.78-.78 2.05 0 2.83L4 21.41c.39.39.9.59 1.41.59.51 0 1.02-.2 1.41-.59l7.78-7.78 2.81-2.81c.8-.78.8-2.07 0-2.86zM5.41 20L4 18.59l7.72-7.72 1.47 1.35L5.41 20z\"/>\n",
                            "  </svg>\n",
                            "      </button>\n",
                            "      \n",
                            "  <style>\n",
                            "    .colab-df-container {\n",
                            "      display:flex;\n",
                            "      flex-wrap:wrap;\n",
                            "      gap: 12px;\n",
                            "    }\n",
                            "\n",
                            "    .colab-df-convert {\n",
                            "      background-color: #E8F0FE;\n",
                            "      border: none;\n",
                            "      border-radius: 50%;\n",
                            "      cursor: pointer;\n",
                            "      display: none;\n",
                            "      fill: #1967D2;\n",
                            "      height: 32px;\n",
                            "      padding: 0 0 0 0;\n",
                            "      width: 32px;\n",
                            "    }\n",
                            "\n",
                            "    .colab-df-convert:hover {\n",
                            "      background-color: #E2EBFA;\n",
                            "      box-shadow: 0px 1px 2px rgba(60, 64, 67, 0.3), 0px 1px 3px 1px rgba(60, 64, 67, 0.15);\n",
                            "      fill: #174EA6;\n",
                            "    }\n",
                            "\n",
                            "    [theme=dark] .colab-df-convert {\n",
                            "      background-color: #3B4455;\n",
                            "      fill: #D2E3FC;\n",
                            "    }\n",
                            "\n",
                            "    [theme=dark] .colab-df-convert:hover {\n",
                            "      background-color: #434B5C;\n",
                            "      box-shadow: 0px 1px 3px 1px rgba(0, 0, 0, 0.15);\n",
                            "      filter: drop-shadow(0px 1px 2px rgba(0, 0, 0, 0.3));\n",
                            "      fill: #FFFFFF;\n",
                            "    }\n",
                            "  </style>\n",
                            "\n",
                            "      <script>\n",
                            "        const buttonEl =\n",
                            "          document.querySelector('#df-3e08a51f-37fe-45aa-ac64-76786943728a button.colab-df-convert');\n",
                            "        buttonEl.style.display =\n",
                            "          google.colab.kernel.accessAllowed ? 'block' : 'none';\n",
                            "\n",
                            "        async function convertToInteractive(key) {\n",
                            "          const element = document.querySelector('#df-3e08a51f-37fe-45aa-ac64-76786943728a');\n",
                            "          const dataTable =\n",
                            "            await google.colab.kernel.invokeFunction('convertToInteractive',\n",
                            "                                                     [key], {});\n",
                            "          if (!dataTable) return;\n",
                            "\n",
                            "          const docLinkHtml = 'Like what you see? Visit the ' +\n",
                            "            '<a target=\"_blank\" href=https://colab.research.google.com/notebooks/data_table.ipynb>data table notebook</a>'\n",
                            "            + ' to learn more about interactive tables.';\n",
                            "          element.innerHTML = '';\n",
                            "          dataTable['output_type'] = 'display_data';\n",
                            "          await google.colab.output.renderOutput(dataTable, element);\n",
                            "          const docLink = document.createElement('div');\n",
                            "          docLink.innerHTML = docLinkHtml;\n",
                            "          element.appendChild(docLink);\n",
                            "        }\n",
                            "      </script>\n",
                            "    </div>\n",
                            "  </div>\n",
                            "  "
                        ]
                    },
                    "metadata": {},
                    "execution_count": 100
                }
            ]
        },
        {
            "cell_type": "code",
            "source": [
                "# Predictions\n",
                "pred_label_counts = pd.Series(preds_test).value_counts().sort_index()\n",
                "pred_label_counts.index = pred_label_counts.index.map(idx_to_label)\n",
                "pred_label_counts = pred_label_counts/sum(pred_label_counts * 10e-3)\n",
                "pred_label_counts.name = 'Predicted'\n",
                "\n",
                "# Truth\n",
                "truth_label_counts = pd.Series(truth_test).value_counts().sort_index()\n",
                "truth_label_counts.index = truth_label_counts.index.map(idx_to_label)\n",
                "truth_label_counts = truth_label_counts/sum(truth_label_counts * 10e-3)\n",
                "truth_label_counts.name = 'Truth'\n",
                "\n",
                "# Merge and calculate error\n",
                "test_errors = pd.concat([pred_label_counts, truth_label_counts], axis='columns')\n",
                "test_errors['Total Error'] = test_errors['Predicted'] - test_errors['Truth']\n",
                "test_errors['Percentage Error'] = 100*(test_errors['Predicted'] - test_errors['Truth']) / test_errors['Truth']\n",
                "test_errors"
            ],
            "metadata": {
                "colab": {
                    "base_uri": "https://localhost:8080/",
                    "height": 206
                },
                "id": "UWJ80ZoneV73",
                "executionInfo": {
                    "status": "ok",
                    "timestamp": 1650943425364,
                    "user_tz": 420,
                    "elapsed": 13,
                    "user": {
                        "displayName": "Rehan Ahmed",
                        "userId": "05041072222578354690"
                    }
                },
                "outputId": "3a7f04a0-a103-4fde-8b02-57efec6459d3"
            },
            "execution_count": 101,
            "outputs": [
                {
                    "output_type": "execute_result",
                    "data": {
                        "text/plain": [
                            "     Predicted  Truth  Total Error  Percentage Error\n",
                            "ang      13.83  10.86         2.96             27.27\n",
                            "fru      25.43  22.72         2.72             11.96\n",
                            "hap       1.73  28.64       -26.91            -93.97\n",
                            "neu      33.95  22.59        11.36             50.27\n",
                            "sad      25.06  15.19         9.88             65.04"
                        ],
                        "text/html": [
                            "\n",
                            "  <div id=\"df-bedd3d24-147f-45cd-ad17-7e9821f31d8f\">\n",
                            "    <div class=\"colab-df-container\">\n",
                            "      <div>\n",
                            "<style scoped>\n",
                            "    .dataframe tbody tr th:only-of-type {\n",
                            "        vertical-align: middle;\n",
                            "    }\n",
                            "\n",
                            "    .dataframe tbody tr th {\n",
                            "        vertical-align: top;\n",
                            "    }\n",
                            "\n",
                            "    .dataframe thead th {\n",
                            "        text-align: right;\n",
                            "    }\n",
                            "</style>\n",
                            "<table border=\"1\" class=\"dataframe\">\n",
                            "  <thead>\n",
                            "    <tr style=\"text-align: right;\">\n",
                            "      <th></th>\n",
                            "      <th>Predicted</th>\n",
                            "      <th>Truth</th>\n",
                            "      <th>Total Error</th>\n",
                            "      <th>Percentage Error</th>\n",
                            "    </tr>\n",
                            "  </thead>\n",
                            "  <tbody>\n",
                            "    <tr>\n",
                            "      <th>ang</th>\n",
                            "      <td>13.83</td>\n",
                            "      <td>10.86</td>\n",
                            "      <td>2.96</td>\n",
                            "      <td>27.27</td>\n",
                            "    </tr>\n",
                            "    <tr>\n",
                            "      <th>fru</th>\n",
                            "      <td>25.43</td>\n",
                            "      <td>22.72</td>\n",
                            "      <td>2.72</td>\n",
                            "      <td>11.96</td>\n",
                            "    </tr>\n",
                            "    <tr>\n",
                            "      <th>hap</th>\n",
                            "      <td>1.73</td>\n",
                            "      <td>28.64</td>\n",
                            "      <td>-26.91</td>\n",
                            "      <td>-93.97</td>\n",
                            "    </tr>\n",
                            "    <tr>\n",
                            "      <th>neu</th>\n",
                            "      <td>33.95</td>\n",
                            "      <td>22.59</td>\n",
                            "      <td>11.36</td>\n",
                            "      <td>50.27</td>\n",
                            "    </tr>\n",
                            "    <tr>\n",
                            "      <th>sad</th>\n",
                            "      <td>25.06</td>\n",
                            "      <td>15.19</td>\n",
                            "      <td>9.88</td>\n",
                            "      <td>65.04</td>\n",
                            "    </tr>\n",
                            "  </tbody>\n",
                            "</table>\n",
                            "</div>\n",
                            "      <button class=\"colab-df-convert\" onclick=\"convertToInteractive('df-bedd3d24-147f-45cd-ad17-7e9821f31d8f')\"\n",
                            "              title=\"Convert this dataframe to an interactive table.\"\n",
                            "              style=\"display:none;\">\n",
                            "        \n",
                            "  <svg xmlns=\"http://www.w3.org/2000/svg\" height=\"24px\"viewBox=\"0 0 24 24\"\n",
                            "       width=\"24px\">\n",
                            "    <path d=\"M0 0h24v24H0V0z\" fill=\"none\"/>\n",
                            "    <path d=\"M18.56 5.44l.94 2.06.94-2.06 2.06-.94-2.06-.94-.94-2.06-.94 2.06-2.06.94zm-11 1L8.5 8.5l.94-2.06 2.06-.94-2.06-.94L8.5 2.5l-.94 2.06-2.06.94zm10 10l.94 2.06.94-2.06 2.06-.94-2.06-.94-.94-2.06-.94 2.06-2.06.94z\"/><path d=\"M17.41 7.96l-1.37-1.37c-.4-.4-.92-.59-1.43-.59-.52 0-1.04.2-1.43.59L10.3 9.45l-7.72 7.72c-.78.78-.78 2.05 0 2.83L4 21.41c.39.39.9.59 1.41.59.51 0 1.02-.2 1.41-.59l7.78-7.78 2.81-2.81c.8-.78.8-2.07 0-2.86zM5.41 20L4 18.59l7.72-7.72 1.47 1.35L5.41 20z\"/>\n",
                            "  </svg>\n",
                            "      </button>\n",
                            "      \n",
                            "  <style>\n",
                            "    .colab-df-container {\n",
                            "      display:flex;\n",
                            "      flex-wrap:wrap;\n",
                            "      gap: 12px;\n",
                            "    }\n",
                            "\n",
                            "    .colab-df-convert {\n",
                            "      background-color: #E8F0FE;\n",
                            "      border: none;\n",
                            "      border-radius: 50%;\n",
                            "      cursor: pointer;\n",
                            "      display: none;\n",
                            "      fill: #1967D2;\n",
                            "      height: 32px;\n",
                            "      padding: 0 0 0 0;\n",
                            "      width: 32px;\n",
                            "    }\n",
                            "\n",
                            "    .colab-df-convert:hover {\n",
                            "      background-color: #E2EBFA;\n",
                            "      box-shadow: 0px 1px 2px rgba(60, 64, 67, 0.3), 0px 1px 3px 1px rgba(60, 64, 67, 0.15);\n",
                            "      fill: #174EA6;\n",
                            "    }\n",
                            "\n",
                            "    [theme=dark] .colab-df-convert {\n",
                            "      background-color: #3B4455;\n",
                            "      fill: #D2E3FC;\n",
                            "    }\n",
                            "\n",
                            "    [theme=dark] .colab-df-convert:hover {\n",
                            "      background-color: #434B5C;\n",
                            "      box-shadow: 0px 1px 3px 1px rgba(0, 0, 0, 0.15);\n",
                            "      filter: drop-shadow(0px 1px 2px rgba(0, 0, 0, 0.3));\n",
                            "      fill: #FFFFFF;\n",
                            "    }\n",
                            "  </style>\n",
                            "\n",
                            "      <script>\n",
                            "        const buttonEl =\n",
                            "          document.querySelector('#df-bedd3d24-147f-45cd-ad17-7e9821f31d8f button.colab-df-convert');\n",
                            "        buttonEl.style.display =\n",
                            "          google.colab.kernel.accessAllowed ? 'block' : 'none';\n",
                            "\n",
                            "        async function convertToInteractive(key) {\n",
                            "          const element = document.querySelector('#df-bedd3d24-147f-45cd-ad17-7e9821f31d8f');\n",
                            "          const dataTable =\n",
                            "            await google.colab.kernel.invokeFunction('convertToInteractive',\n",
                            "                                                     [key], {});\n",
                            "          if (!dataTable) return;\n",
                            "\n",
                            "          const docLinkHtml = 'Like what you see? Visit the ' +\n",
                            "            '<a target=\"_blank\" href=https://colab.research.google.com/notebooks/data_table.ipynb>data table notebook</a>'\n",
                            "            + ' to learn more about interactive tables.';\n",
                            "          element.innerHTML = '';\n",
                            "          dataTable['output_type'] = 'display_data';\n",
                            "          await google.colab.output.renderOutput(dataTable, element);\n",
                            "          const docLink = document.createElement('div');\n",
                            "          docLink.innerHTML = docLinkHtml;\n",
                            "          element.appendChild(docLink);\n",
                            "        }\n",
                            "      </script>\n",
                            "    </div>\n",
                            "  </div>\n",
                            "  "
                        ]
                    },
                    "metadata": {},
                    "execution_count": 101
                }
            ]
        },
        {
            "cell_type": "markdown",
            "source": [
                "### Confusion Matrix"
            ],
            "metadata": {
                "id": "r5KL93u_eXTR"
            }
        },
        {
            "cell_type": "code",
            "source": [
                "conf_mat = confusion_matrix(truth_test, preds_test)#, labels=class_names)\n",
                "df_cm = pd.DataFrame(conf_mat, index = class_names,\n",
                "                     columns = class_names)\n",
                "plt.figure(figsize = (12,9))\n",
                "plt.title('Confusion Matrix', fontsize = 24, pad = 20, fontweight='bold')\n",
                "sns.heatmap(df_cm, annot=True, cmap='Blues', fmt='g', norm=LogNorm(vmax=300))\n",
                "plt.ylabel('True Emotion', fontsize = 18, labelpad = 20)\n",
                "plt.xlabel('Predicted Emotion', fontsize = 18, labelpad = 20)\n",
                "plt.axis('equal')\n",
                "plt.savefig(f'figures/CM_{model_name}.png')\n",
                "plt.show()"
            ],
            "metadata": {
                "colab": {
                    "base_uri": "https://localhost:8080/",
                    "height": 614
                },
                "id": "XyEEMLkMeZar",
                "executionInfo": {
                    "status": "ok",
                    "timestamp": 1650943426638,
                    "user_tz": 420,
                    "elapsed": 1284,
                    "user": {
                        "displayName": "Rehan Ahmed",
                        "userId": "05041072222578354690"
                    }
                },
                "outputId": "99ad3747-6c92-483f-c73d-dac673e2b96c"
            },
            "execution_count": 102,
            "outputs": [
                {
                    "output_type": "display_data",
                    "data": {
                        "text/plain": [
                            "<Figure size 864x648 with 2 Axes>"
                        ],
                        "image/png": "[encoded data removed]"
                    },
                    "metadata": {
                        "needs_background": "light"
                    }
                }
            ]
        },
        {
            "cell_type": "markdown",
            "source": [
                "### ROC"
            ],
            "metadata": {
                "id": "kSSSyCSgeekr"
            }
        },
        {
            "cell_type": "code",
            "source": [
                "# Data for the plots\n",
                "N_CLASSES = len(class_names)\n",
                "fpr = dict()\n",
                "tpr = dict()\n",
                "roc_auc = dict()\n",
                "for i in range(N_CLASSES):\n",
                "    fpr[i], tpr[i], _ = roc_curve(true_onehot[:, i], probas_test[:, i])\n",
                "    roc_auc[i] = auc(fpr[i], tpr[i])\n",
                "\n",
                "# ROC-AUC Plot: Class Scores\n",
                "fig, ax = plt.subplots(figsize=(10,10))\n",
                "colors = []\n",
                "cm = pylab.get_cmap('nipy_spectral')\n",
                "for i in range(N_CLASSES):\n",
                "    color = cm(1.*i/N_CLASSES)\n",
                "    colors.append(color)\n",
                "\n",
                "for i, color in zip(range(N_CLASSES), colors):\n",
                "    plt.plot(fpr[i], tpr[i], color=color, lw=2, alpha=0.75,\n",
                "             label='{0} (area = {1:0.2f})'.format(class_names[i], roc_auc[i]))\n",
                "\n",
                "plt.plot([0, 1], [0, 1], 'k--', lw=2)\n",
                "plt.xlim([0.0, 1.0])\n",
                "plt.ylim([0.0, 1.0])\n",
                "ax.tick_params(axis='both', which='major', labelsize=15)\n",
                "plt.xlabel('False Positive Rate', fontsize=20, labelpad=10)\n",
                "plt.ylabel('True Positive Rate', fontsize=20, labelpad=10)\n",
                "plt.title('Multi Class ROC', fontsize=25, pad=20)\n",
                "plt.legend(fontsize=20, loc=\"lower right\")\n",
                "plt.savefig(f'figures/ROC_{model_name}.png')\n",
                "plt.show()"
            ],
            "metadata": {
                "colab": {
                    "base_uri": "https://localhost:8080/",
                    "height": 665
                },
                "id": "iiGVHzCCefUu",
                "executionInfo": {
                    "status": "ok",
                    "timestamp": 1650943427809,
                    "user_tz": 420,
                    "elapsed": 1190,
                    "user": {
                        "displayName": "Rehan Ahmed",
                        "userId": "05041072222578354690"
                    }
                },
                "outputId": "283c21c8-e796-48a6-c3ea-4740a5642bf9"
            },
            "execution_count": 103,
            "outputs": [
                {
                    "output_type": "display_data",
                    "data": {
                        "text/plain": [
                            "<Figure size 720x720 with 1 Axes>"
                        ],
                        "image/png": "[encoded data removed]"
                    },
                    "metadata": {
                        "needs_background": "light"
                    }
                }
            ]
        },
        {
            "cell_type": "markdown",
            "source": [
                "## End"
            ],
            "metadata": {
                "id": "y1cePsk1ehDI"
            }
        }
    ]
}